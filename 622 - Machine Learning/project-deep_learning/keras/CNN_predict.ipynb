{
 "cells": [
  {
   "cell_type": "code",
   "execution_count": 1,
   "metadata": {},
   "outputs": [
    {
     "name": "stderr",
     "output_type": "stream",
     "text": [
      "Using TensorFlow backend.\n"
     ]
    }
   ],
   "source": [
    "# Import necessary packages\n",
    "\n",
    "import pandas as pd\n",
    "import numpy as np\n",
    "%matplotlib inline\n",
    "import matplotlib.pyplot as plt\n",
    "\n",
    "from keras.datasets import mnist\n",
    "from keras.models import Sequential\n",
    "from keras.layers import Dense\n",
    "import keras.backend as K\n",
    "from keras.layers import Conv2D\n",
    "from keras.layers import MaxPool2D, AvgPool2D\n",
    "from keras.utils.np_utils import to_categorical\n",
    "from keras.callbacks import EarlyStopping, TensorBoard, ModelCheckpoint, LambdaCallback\n",
    "from keras.layers import Flatten, Activation\n",
    "\n",
    "from keras.layers import Input\n",
    "from keras.models import Model\n",
    "from keras.layers import Dropout\n",
    "import keras.backend as K\n",
    "from keras.preprocessing.image import ImageDataGenerator\n",
    "from keras.layers.normalization import BatchNormalization\n",
    "import h5py\n",
    "from keras.models import load_model\n",
    "from sklearn.metrics import classification_report, confusion_matrix"
   ]
  },
  {
   "cell_type": "code",
   "execution_count": 4,
   "metadata": {},
   "outputs": [
    {
     "name": "stdout",
     "output_type": "stream",
     "text": [
      "10000/10000 [==============================] - 4s 372us/step\n",
      "Evaluate model accuracy without new images: 97.78999999999999\n",
      "Classfication report of Test dataset: \n",
      "              precision    recall  f1-score   support\n",
      "\n",
      "          0       1.00      1.00      1.00       980\n",
      "          1       1.00      1.00      1.00      1135\n",
      "          2       1.00      1.00      1.00      1032\n",
      "          3       1.00      1.00      1.00      1010\n",
      "          4       1.00      1.00      1.00       982\n",
      "          5       1.00      1.00      1.00       892\n",
      "          6       1.00      1.00      1.00       958\n",
      "          7       1.00      1.00      1.00      1028\n",
      "          8       1.00      1.00      1.00       974\n",
      "          9       1.00      1.00      1.00      1009\n",
      "\n",
      "avg / total       1.00      1.00      1.00     10000\n",
      "\n",
      "Confusion report of Test dataset: \n",
      "[[ 980    0    0    0    0    0    0    0    0    0]\n",
      " [   0 1135    0    0    0    0    0    0    0    0]\n",
      " [   0    0 1032    0    0    0    0    0    0    0]\n",
      " [   0    0    0 1010    0    0    0    0    0    0]\n",
      " [   0    0    0    0  982    0    0    0    0    0]\n",
      " [   0    0    0    0    0  892    0    0    0    0]\n",
      " [   0    0    0    0    0    0  958    0    0    0]\n",
      " [   0    0    0    0    0    0    0 1028    0    0]\n",
      " [   0    0    0    0    0    0    0    0  974    0]\n",
      " [   0    0    0    0    0    0    0    0    0 1009]]\n",
      "Enter a random index number:10\n",
      "Model Prediction: 0\n"
     ]
    },
    {
     "data": {
      "image/png": "[encoded data removed]",
      "text/plain": [
       "<matplotlib.figure.Figure at 0x121182e8>"
      ]
     },
     "metadata": {},
     "output_type": "display_data"
    }
   ],
   "source": [
    "if __name__=='__main__':\n",
    "    \n",
    "    #Load Test dataset\n",
    "    (_, _), (X_test, y_test) = mnist.load_data('mnist.npz')\n",
    "    \n",
    "    #Perform all the necessary preprocessing\n",
    "    \n",
    "    X_test = X_test.astype('float32')/255\n",
    "    X_test = X_test.reshape(-1, 28, 28, 1)\n",
    "    y_test_cat = to_categorical(y_test)\n",
    "\n",
    "    #Load the model which was previously saved\n",
    "    model = load_model('./model/save_model_fit.hdf5')\n",
    "\n",
    "    print(\"Evaluate model accuracy without new images: {}\".format(model.evaluate(X_test,y_test_cat)[1] *100))\n",
    "    \n",
    "    #Convert the prediction to number\n",
    "    y_pred = np.argmax(y_test_cat,1)\n",
    "    \n",
    "    target_number = ['0','1','2','3','4','5','6','7','8','9']\n",
    "    print(\"Classfication report of Test dataset: \\n {}\".format(classification_report(y_test,y_pred,target_names = target_number)))\n",
    "    print(\"Confusion report of Test dataset: \\n{}\".format(confusion_matrix(y_test,y_pred)))\n",
    "\n",
    "    a = int(input('\\nEnter a random index number to predict:'))\n",
    "    \n",
    "    plt.imshow(X_test[a].reshape(28,28),cmap='gray')\n",
    "    print('\\nModel Prediction: {}'.format(np.argmax(model.predict(X_test[a].reshape(-1,28,28,1)))))\n",
    "    \n",
    "    "
   ]
  },
  {
   "cell_type": "code",
   "execution_count": null,
   "metadata": {
    "collapsed": true
   },
   "outputs": [],
   "source": []
  }
 ],
 "metadata": {
  "kernelspec": {
   "display_name": "Python 3",
   "language": "python",
   "name": "python3"
  },
  "language_info": {
   "codemirror_mode": {
    "name": "ipython",
    "version": 3
   },
   "file_extension": ".py",
   "mimetype": "text/x-python",
   "name": "python",
   "nbconvert_exporter": "python",
   "pygments_lexer": "ipython3",
   "version": "3.6.1"
  }
 },
 "nbformat": 4,
 "nbformat_minor": 2
}
