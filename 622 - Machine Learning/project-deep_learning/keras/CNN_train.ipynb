{
 "cells": [
  {
   "cell_type": "markdown",
   "metadata": {},
   "source": [
    "# Digits Classification using Keras CNN"
   ]
  },
  {
   "cell_type": "markdown",
   "metadata": {},
   "source": [
    "## Dataset:\n",
    "\n",
    "The MNIST database of handwritten digits, available from [this page](http://yann.lecun.com/exdb/mnist/), has a training set of 60,000 examples, and a test set of 10,000 examples. It is a subset of a larger set available from NIST. The digits have been size-normalized and centered in a fixed-size image.\n",
    "\n",
    "It is a good database for people who want to try learning techniques and pattern recognition methods on real-world data while spending minimal efforts on preprocessing and formatting."
   ]
  },
  {
   "cell_type": "markdown",
   "metadata": {},
   "source": [
    "## Solution:\n",
    "\n",
    "In this project we will build a Convolutional Neural Network(CNN) to find out the handwritten digits. These neural networks will be build using different layers. \n",
    "\n",
    "We will use Keras high-level library to perform this prediction. Tensorflow is used in backend for this network. Neural network can be build using different API's in Keras. Below are two different methods. \n",
    "\n",
    "1. Keras Sequential API\n",
    "2. Keras Functional API\n",
    "\n",
    "Once we build this model, we will execute the either option to run in GPU's to make faster execution and prediction."
   ]
  },
  {
   "cell_type": "code",
   "execution_count": 11,
   "metadata": {},
   "outputs": [
    {
     "name": "stderr",
     "output_type": "stream",
     "text": [
      "Using TensorFlow backend.\n"
     ]
    }
   ],
   "source": [
    "# Import necessary packages\n",
    "\n",
    "import pandas as pd\n",
    "import numpy as np\n",
    "%matplotlib inline\n",
    "import matplotlib.pyplot as plt\n",
    "\n",
    "from keras.datasets import mnist\n",
    "from keras.models import Sequential\n",
    "from keras.layers import Dense\n",
    "import keras.backend as K\n",
    "from keras.layers import Conv2D\n",
    "from keras.layers import MaxPool2D, AvgPool2D\n",
    "from keras.utils.np_utils import to_categorical\n",
    "from keras.callbacks import EarlyStopping, TensorBoard, ModelCheckpoint, LambdaCallback\n",
    "from keras.layers import Flatten, Activation\n",
    "\n",
    "from keras.layers import Input\n",
    "from keras.models import Model\n",
    "from keras.layers import Dropout\n",
    "import keras.backend as K\n",
    "from keras.preprocessing.image import ImageDataGenerator\n",
    "from keras.layers.normalization import BatchNormalization"
   ]
  },
  {
   "cell_type": "code",
   "execution_count": 12,
   "metadata": {
    "collapsed": true
   },
   "outputs": [],
   "source": [
    "def sequential_model():\n",
    "    \n",
    "    \"\"\"In Option 1, we are going to create a model in sequence of different steps. Here we add series of neural network layer steps to create a fully connected network and \n",
    "    then perfrom prediction using the final layer.\"\"\"\n",
    "    \n",
    "    # Create a sequential Model\n",
    "    model = Sequential()\n",
    "    \n",
    "    model.add(Conv2D(filters=32,kernel_size=(3,3),input_shape=(28,28,1),strides=(1,1),padding='same',\n",
    "                 kernel_regularizer='l2',kernel_initializer='normal'))\n",
    "    model.add(MaxPool2D(pool_size=(2,2)))\n",
    "    model.add(Dropout(0.1))\n",
    "    model.add(BatchNormalization())\n",
    "    \n",
    "    model.add(Conv2D(filters=32,kernel_size=(3,3),strides=(1,1),padding='same'))\n",
    "    model.add(MaxPool2D(pool_size=(2,2)))\n",
    "    model.add(Dropout(0.1))\n",
    "    model.add(BatchNormalization())\n",
    "    \n",
    "    model.add(Activation('relu'))\n",
    "    \n",
    "    model.add(Flatten())\n",
    "    \n",
    "    model.add(Dense(units=128,activation='relu'))\n",
    "    \n",
    "    model.add(Dense(10,activation='softmax'))\n",
    "    model.compile(optimizer='rmsprop',loss='categorical_crossentropy',metrics=['accuracy'])\n",
    "    \n",
    "    print('Sequential Model Summary: {}\\n'.format(model.summary()))\n",
    "    \n",
    "    return(model)"
   ]
  },
  {
   "cell_type": "code",
   "execution_count": 48,
   "metadata": {
    "collapsed": true
   },
   "outputs": [],
   "source": [
    "def functional_model():\n",
    "    \n",
    "    \"\"\"In Option 2, we will use the sophisticated functions API provided by Keras. My using this method, we can provide multiple inputs in various different forms. \n",
    "    It also has lot of flexibility compared to the Sequential API.\"\"\"\n",
    "    #Input shape of the data\n",
    "    inputs = Input(shape=(28,28,1))\n",
    "    \n",
    "    #Adding multiple layers as we performed in Sequential API\n",
    "\n",
    "    x = Conv2D(filters=32,kernel_size=(3,3),strides=(1,1),kernel_regularizer='l2', \\\n",
    "               kernel_initializer='normal')(inputs)\n",
    "    \n",
    "    x = MaxPool2D(pool_size=(2,2))(x)\n",
    "    \n",
    "    x= Dropout(0.1)(x)\n",
    "    x= BatchNormalization()(x)\n",
    "    x = Conv2D(filters=32,kernel_size=(3,3),strides=(1,1),kernel_regularizer='l2', \\\n",
    "               kernel_initializer='normal')(x)\n",
    "    \n",
    "    x = MaxPool2D(pool_size=(2,2))(x)\n",
    "    \n",
    "    x= Dropout(0.1)(x)\n",
    "    x= BatchNormalization()(x)\n",
    "\n",
    "    x = Dense(128,activation='relu')(x)\n",
    "    x = Flatten()(x)\n",
    "    \n",
    "    predictions = Dense(10,activation='softmax')(x)\n",
    "    \n",
    "    #Create a model and predict\n",
    "    model = Model(inputs=inputs, outputs=predictions)\n",
    "    \n",
    "    model.compile(optimizer='rmsprop',loss='categorical_crossentropy',metrics=['accuracy'])\n",
    "    \n",
    "    print('Functional Model Summary: {}\\n'.format(model.summary()))\n",
    "\n",
    "    \n",
    "    return(model)"
   ]
  },
  {
   "cell_type": "code",
   "execution_count": 28,
   "metadata": {
    "collapsed": true
   },
   "outputs": [],
   "source": [
    "def generate_call(X_train, X_test, y_train_cat, y_test_cat):\n",
    "    \"\"\"Another complexity we are going to add to this model is to perform image generation. We are going to add new images by recaling, shifting width, height, rotation, shear, zoom and horizontal flip, etc. \n",
    "    By performing this operation, we can generate new images and by confident about our model and predictions.\"\"\"\n",
    "    \n",
    "    train_gen = ImageDataGenerator(rescale = 1./255,\n",
    "                           width_shift_range=0.1,\n",
    "                           height_shift_range=0.1,\n",
    "                           rotation_range = 10,\n",
    "                           shear_range = 0.2,\n",
    "                           zoom_range = 0.2,\n",
    "                           horizontal_flip = True)\n",
    "    test_gen = ImageDataGenerator(rescale = 1./255)\n",
    "\n",
    "    tra = train_gen.flow(X_train,y_train_cat)\n",
    "    \n",
    "    #After adding new images, lets see a sample image and its output. By seeing these outputs, some images have been got totally transformed. \n",
    "    #Lets see how the model behaves on these totally transformed images.\n",
    "    #for t in tra:\n",
    "        #print(t[0][0].reshape(28,28))\n",
    "    #    plt.imshow(t[0][0].reshape(28,28),cmap='gray')\n",
    "    #    print(\"Actual number is {}\\n\".format(np.argmax(t[1][0])))\n",
    "    #    break\n",
    "            \n",
    "    return train_gen, test_gen"
   ]
  },
  {
   "cell_type": "code",
   "execution_count": 29,
   "metadata": {
    "collapsed": true
   },
   "outputs": [],
   "source": [
    "def consolidated_model( X_train, X_test, y_train_cat, y_test_cat,image_generate=False,model_type='Sequential'):\n",
    "    \n",
    "    \"\"\"Below is the series of steps added to the model\n",
    "    1. Add a convolutional 2D layer with the kernal size of 3x3 and strides of 1x1.\n",
    "    2. We can add l2 regularizer and initiate the kernel weigths to normal weights.\n",
    "    3. Add MaxPool2D layer, which reduces the image size with 2x2 kernal size. It will try to detect the corners and important features.\n",
    "    4. Randomly dropout the 10% of neurons. This will prevent the model to be dependent on some certain neurons.\n",
    "    5. Add BatchNormalization will transorm the previous layers output mean close to 0 and the SD close to 1.\n",
    "    6. Adding all the previous steps (convolution2D, MaxPool2D, Dropout, BatchNormalization) to the model.\n",
    "    7. Adding the activation function Relu.\n",
    "    8. Flatten the complete array to create a Fully connectected neural network.\n",
    "    9. Add a output layer with 128 neurons with relu activation.\n",
    "    10. Finally add a softmax layer with 10 output neurons to predict the output.\n",
    "    11. Complie the model with RMSPROP optimzer and categorical cross entropy loss with accuracy as the metric.\n",
    "    \"\"\"\n",
    "    \n",
    "    if model_type =='Sequential':\n",
    "        model = sequential_model()\n",
    "        \n",
    "    elif model_type=='Functional':\n",
    "        model = functional_model()\n",
    "    \n",
    "\n",
    "    # Creating some call back functions\n",
    "    earlystopping = EarlyStopping(monitor='val_loss',min_delta=0, patience=5, mode ='auto')\n",
    "    #Tensorboard logs\n",
    "    tensorboard = TensorBoard(log_dir='./logs')\n",
    "    \n",
    "    \n",
    "    if image_generate ==True:\n",
    "        train_gen, test_gen = generate_call(X_train, X_test, y_train_cat, y_test_cat)\n",
    "        \n",
    "        #Saving best model\n",
    "        modelcheckpoint = ModelCheckpoint('./model/save_model_fit_generator.hdf5', monitor ='val_loss',save_best_only=True,)\n",
    "\n",
    "        #Fit method provides higher accuracy but we did not generate new images which is of different sizes, zoom, etc. Below fit method will will use the newly generated images and then perform fit method.\n",
    "        #Image generator creates an generator object, so we have to use flow method to generate new images. This method is extremely slow, so we are performing only two epochs.\n",
    "\n",
    "        model.fit_generator(train_gen.flow(X_train,y_train_cat),epochs=10,steps_per_epoch=len(X_train)\n",
    "                   ,callbacks =[earlystopping,modelcheckpoint,tensorboard])\n",
    "        \n",
    "        \n",
    "        #print(\"Evaluate model accuracy with new images: {}\".format(model.evaluate(X_test,y_test_cat)))\n",
    "\n",
    "        \n",
    "    elif image_generate ==False:\n",
    "        \n",
    "        modelcheckpoint = ModelCheckpoint('./model/save_model_fit.hdf5', monitor ='val_loss',save_best_only=True)\n",
    "    \n",
    "        #Fitting the model with a batch size of 128 and 10 epochs without any new image generator. This provides higher accuracy\n",
    "        \n",
    "        model.fit(X_train,y_train_cat,batch_size=128,validation_split=0.1,\n",
    "                  epochs=100,callbacks =[earlystopping,modelcheckpoint,tensorboard])\n",
    "        \n",
    "        \n",
    "        print(\"Evaluate model accuracy without new images: {}\".format(model.evaluate(X_test,y_test_cat)[1] *100))\n",
    "    \n",
    "    return(model)"
   ]
  },
  {
   "cell_type": "code",
   "execution_count": 47,
   "metadata": {
    "scrolled": false
   },
   "outputs": [
    {
     "name": "stdout",
     "output_type": "stream",
     "text": [
      "Validating the shape of X_train: (60000, 28, 28)\n",
      "\n",
      "Validating the shape of X_test:(10000, 28, 28)\n",
      "\n",
      "\n",
      "***Sequentional without new generated images***\n",
      "\n",
      "_________________________________________________________________\n",
      "Layer (type)                 Output Shape              Param #   \n",
      "=================================================================\n",
      "input_18 (InputLayer)        (None, 28, 28, 1)         0         \n",
      "_________________________________________________________________\n",
      "conv2d_41 (Conv2D)           (None, 26, 26, 32)        320       \n",
      "_________________________________________________________________\n",
      "max_pooling2d_41 (MaxPooling (None, 13, 13, 32)        0         \n",
      "_________________________________________________________________\n",
      "conv2d_42 (Conv2D)           (None, 11, 11, 32)        9248      \n",
      "_________________________________________________________________\n",
      "max_pooling2d_42 (MaxPooling (None, 5, 5, 32)          0         \n",
      "_________________________________________________________________\n",
      "flatten_21 (Flatten)         (None, 800)               0         \n",
      "_________________________________________________________________\n",
      "dense_41 (Dense)             (None, 128)               102528    \n",
      "_________________________________________________________________\n",
      "dense_42 (Dense)             (None, 10)                1290      \n",
      "=================================================================\n",
      "Total params: 113,386\n",
      "Trainable params: 113,386\n",
      "Non-trainable params: 0\n",
      "_________________________________________________________________\n",
      "Functional Model Summary: None\n",
      "Model Prediction: 1\n"
     ]
    },
    {
     "data": {
      "image/png": "[encoded data removed]",
      "text/plain": [
       "<matplotlib.figure.Figure at 0x161f53c8>"
      ]
     },
     "metadata": {},
     "output_type": "display_data"
    }
   ],
   "source": [
    "if __name__=='__main__':\n",
    "    \n",
    "    #MNIST dataset is conveniently available as part of Keras.datasets library. We will import the dataset and split it in Train test split in random order.\n",
    "    \n",
    "    (X_train, y_train), (X_test, y_test) = mnist.load_data('mnist.npz')\n",
    "    \n",
    "    print(\"Validating the shape of X_train: {}\\n\".format(X_train.shape))\n",
    "    print(\"Validating the shape of X_test:{}\\n\".format(X_test.shape))\n",
    "    \n",
    "    #Image of random train object\n",
    "    plt.imshow(X_train[9999],cmap='gray')\n",
    "    \n",
    "    #The image pixel range is from 0 to 255. We need to convert it to float and divide by 255. By performing this we will reduce the computations carred by neural network.\n",
    "    \n",
    "    # Convert integer to float and divide by 255\n",
    "    X_train = X_train.astype('float32')/255\n",
    "    X_test = X_test.astype('float32')/255\n",
    "    \n",
    "    \n",
    "    #To perform convolution on the image, we need to convert the image into 28x28 pixels. Also the input needs to be a rank 4 tensor. First input is the number of rows, here -1 means it will fetch at run time. Other two dimentions are image pixels. Final dimension mentions the image color. \n",
    "    #In our case, it is gray scale so it is mentioned as 1.\n",
    "    X_train = X_train.reshape(-1, 28, 28, 1)\n",
    "    X_test = X_test.reshape(-1, 28, 28, 1)\n",
    "    \n",
    "    #Converting to y to categorical variable\n",
    "    y_train_cat = to_categorical(y_train)\n",
    "    y_test_cat = to_categorical(y_test)\n",
    "    \n",
    "    #Sequential call\n",
    "    \n",
    "    print(\"\\n***Sequentional without new generated images***\\n\")\n",
    "    model = consolidated_model(X_train, X_test, y_train_cat, y_test_cat,image_generate=False,model_type='Functional')\n",
    "    \n",
    "    print(\"\\n***Sequentional with new images***\\n\")\n",
    "    \n",
    "    model = consolidated_model(X_train, X_test, y_train_cat, y_test_cat,image_generate=True,model_type='Sequential')   "
   ]
  },
  {
   "cell_type": "code",
   "execution_count": null,
   "metadata": {
    "collapsed": true
   },
   "outputs": [],
   "source": []
  }
 ],
 "metadata": {
  "kernelspec": {
   "display_name": "Python 3",
   "language": "python",
   "name": "python3"
  },
  "language_info": {
   "codemirror_mode": {
    "name": "ipython",
    "version": 3
   },
   "file_extension": ".py",
   "mimetype": "text/x-python",
   "name": "python",
   "nbconvert_exporter": "python",
   "pygments_lexer": "ipython3",
   "version": "3.6.1"
  }
 },
 "nbformat": 4,
 "nbformat_minor": 2
}
