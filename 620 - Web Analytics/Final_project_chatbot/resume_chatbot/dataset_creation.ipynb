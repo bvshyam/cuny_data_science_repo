{
 "cells": [
  {
   "cell_type": "markdown",
   "metadata": {},
   "source": [
    "## Dataset Creation\n",
    "\n",
    "As a inital step we will load the sample data which we have. Here is a sample data which [I found](\n",
    "https://raw.githubusercontent.com/bvshyam/make_yourself_a_bot/master/workspace-watson.json). This will be me base to create a dataset."
   ]
  },
  {
   "cell_type": "code",
   "execution_count": 2,
   "metadata": {
    "collapsed": true
   },
   "outputs": [],
   "source": [
    "# Loading necessary libraries\n",
    "\n",
    "import json\n",
    "import pandas as pd"
   ]
  },
  {
   "cell_type": "markdown",
   "metadata": {},
   "source": [
    "Input dataset is a JSON file. In which the data is segregated in terms of intent, question and answer. We are not going to mention which is the intent and response. We are going to train the bot for answering these questions.\n",
    "\n",
    "So we will remove all the intent and this format. We will gather only the questions and answers."
   ]
  },
  {
   "cell_type": "code",
   "execution_count": 3,
   "metadata": {
    "collapsed": true
   },
   "outputs": [],
   "source": [
    "# Loading Json\n",
    "data = json.load(open('./data/resume_conversation.json'))"
   ]
  },
  {
   "cell_type": "markdown",
   "metadata": {},
   "source": [
    "Below is the sample format of the file. It has the conditions( Question type), and output(Answer's)"
   ]
  },
  {
   "cell_type": "code",
   "execution_count": 4,
   "metadata": {},
   "outputs": [
    {
     "data": {
      "text/plain": [
       "{'conditions': '#complaint',\n",
       " 'context': None,\n",
       " 'created': '2016-09-10T13:23:23.985Z',\n",
       " 'description': None,\n",
       " 'dialog_node': 'node_10_1473513867252',\n",
       " 'go_to': None,\n",
       " 'metadata': None,\n",
       " 'output': {'text': 'All right. I filed a complaint to the management.... done. Sending notification to lawyers...done :)'},\n",
       " 'parent': None,\n",
       " 'previous_sibling': 'node_1_1473866820552'}"
      ]
     },
     "execution_count": 4,
     "metadata": {},
     "output_type": "execute_result"
    }
   ],
   "source": [
    "data['dialog_nodes'][0]"
   ]
  },
  {
   "cell_type": "code",
   "execution_count": 5,
   "metadata": {
    "collapsed": true,
    "scrolled": true
   },
   "outputs": [],
   "source": [
    "# Looping through all the conditions and output(Answers)\n",
    "\n",
    "intent_questions =[]\n",
    "answers = []\n",
    "\n",
    "for question in  data['dialog_nodes'][1:1000]:\n",
    "    temp = dict(question)\n",
    "    intent_questions.append(str(temp['conditions']).replace('#',\"\"))\n",
    "    answers.append(temp['output']['text'])"
   ]
  },
  {
   "cell_type": "code",
   "execution_count": 6,
   "metadata": {},
   "outputs": [
    {
     "data": {
      "text/plain": [
       "['what_are_your_strengths',\n",
       " 'what_are_your_weaknesses',\n",
       " 'yes',\n",
       " 'greetings',\n",
       " 'conversation_start',\n",
       " 'conversation_start_x',\n",
       " 'how_you_describe_yourself',\n",
       " 'why_do_you_want_to_work_for_us',\n",
       " 'anything_else',\n",
       " 'can_you_work']"
      ]
     },
     "execution_count": 6,
     "metadata": {},
     "output_type": "execute_result"
    }
   ],
   "source": [
    "#Sample text\n",
    "intent_questions[:10]"
   ]
  },
  {
   "cell_type": "code",
   "execution_count": 7,
   "metadata": {
    "collapsed": true,
    "scrolled": true
   },
   "outputs": [],
   "source": [
    "# Converting the intent and answers in a pandas dataframe\n",
    "\n",
    "df_qa = pd.DataFrame(list(zip(intent_questions,answers)))\n",
    "df_qa.columns = ['intent','answers']"
   ]
  },
  {
   "cell_type": "code",
   "execution_count": 8,
   "metadata": {},
   "outputs": [
    {
     "data": {
      "text/html": [
       "<div>\n",
       "<style>\n",
       "    .dataframe thead tr:only-child th {\n",
       "        text-align: right;\n",
       "    }\n",
       "\n",
       "    .dataframe thead th {\n",
       "        text-align: left;\n",
       "    }\n",
       "\n",
       "    .dataframe tbody tr th {\n",
       "        vertical-align: top;\n",
       "    }\n",
       "</style>\n",
       "<table border=\"1\" class=\"dataframe\">\n",
       "  <thead>\n",
       "    <tr style=\"text-align: right;\">\n",
       "      <th></th>\n",
       "      <th>intent</th>\n",
       "      <th>answers</th>\n",
       "    </tr>\n",
       "  </thead>\n",
       "  <tbody>\n",
       "    <tr>\n",
       "      <th>0</th>\n",
       "      <td>what_are_your_strengths</td>\n",
       "      <td>ClichÃ© question detecting. Waiting for next q...</td>\n",
       "    </tr>\n",
       "    <tr>\n",
       "      <th>1</th>\n",
       "      <td>what_are_your_weaknesses</td>\n",
       "      <td>ClichÃ© question detecting. Waiting for next q...</td>\n",
       "    </tr>\n",
       "    <tr>\n",
       "      <th>2</th>\n",
       "      <td>yes</td>\n",
       "      <td>Good for you</td>\n",
       "    </tr>\n",
       "    <tr>\n",
       "      <th>3</th>\n",
       "      <td>greetings</td>\n",
       "      <td>Greetings!</td>\n",
       "    </tr>\n",
       "    <tr>\n",
       "      <th>4</th>\n",
       "      <td>conversation_start</td>\n",
       "      <td>Hello, I'm Andrei's AI. Think of me as Andrei....</td>\n",
       "    </tr>\n",
       "  </tbody>\n",
       "</table>\n",
       "</div>"
      ],
      "text/plain": [
       "                     intent                                            answers\n",
       "0   what_are_your_strengths  ClichÃ© question detecting. Waiting for next q...\n",
       "1  what_are_your_weaknesses  ClichÃ© question detecting. Waiting for next q...\n",
       "2                       yes                                       Good for you\n",
       "3                 greetings                                         Greetings!\n",
       "4        conversation_start  Hello, I'm Andrei's AI. Think of me as Andrei...."
      ]
     },
     "execution_count": 8,
     "metadata": {},
     "output_type": "execute_result"
    }
   ],
   "source": [
    "df_qa.head()"
   ]
  },
  {
   "cell_type": "markdown",
   "metadata": {},
   "source": [
    "As a next part, we need to scrape the intents and different questions type. Different questions type means the different ways a user can ask questions."
   ]
  },
  {
   "cell_type": "code",
   "execution_count": 9,
   "metadata": {
    "collapsed": true,
    "scrolled": true
   },
   "outputs": [],
   "source": [
    "intents =[]\n",
    "different_questions = []\n",
    "\n",
    "#Looping intents and in the tree get the different questions as list.\n",
    "for question in data['intents']:\n",
    "    temp = dict(question)\n",
    "    intents.append(question['intent'])\n",
    "    different_questions.append([answers['text'] for answers in question['examples']]  )"
   ]
  },
  {
   "cell_type": "code",
   "execution_count": 10,
   "metadata": {},
   "outputs": [],
   "source": [
    "#Createa a pandas dataframe\n",
    "df_quest = pd.DataFrame(columns=['intent','question'])"
   ]
  },
  {
   "cell_type": "code",
   "execution_count": 11,
   "metadata": {
    "collapsed": true
   },
   "outputs": [],
   "source": [
    "#Add intent and questions in each row\n",
    "\n",
    "for intent,question in zip(intents,different_questions):\n",
    "    for quest in list(question):\n",
    "        df_quest = df_quest.append({'intent':intent,'question':quest}, ignore_index=True)"
   ]
  },
  {
   "cell_type": "code",
   "execution_count": 12,
   "metadata": {
    "scrolled": true
   },
   "outputs": [
    {
     "data": {
      "text/html": [
       "<div>\n",
       "<style>\n",
       "    .dataframe thead tr:only-child th {\n",
       "        text-align: right;\n",
       "    }\n",
       "\n",
       "    .dataframe thead th {\n",
       "        text-align: left;\n",
       "    }\n",
       "\n",
       "    .dataframe tbody tr th {\n",
       "        vertical-align: top;\n",
       "    }\n",
       "</style>\n",
       "<table border=\"1\" class=\"dataframe\">\n",
       "  <thead>\n",
       "    <tr style=\"text-align: right;\">\n",
       "      <th></th>\n",
       "      <th>intent</th>\n",
       "      <th>question</th>\n",
       "    </tr>\n",
       "  </thead>\n",
       "  <tbody>\n",
       "    <tr>\n",
       "      <th>0</th>\n",
       "      <td>age_related</td>\n",
       "      <td>Are you an adult ?</td>\n",
       "    </tr>\n",
       "    <tr>\n",
       "      <th>1</th>\n",
       "      <td>age_related</td>\n",
       "      <td>are you clever ?</td>\n",
       "    </tr>\n",
       "    <tr>\n",
       "      <th>2</th>\n",
       "      <td>age_related</td>\n",
       "      <td>are you there ?</td>\n",
       "    </tr>\n",
       "    <tr>\n",
       "      <th>3</th>\n",
       "      <td>age_related</td>\n",
       "      <td>How many years you have?</td>\n",
       "    </tr>\n",
       "    <tr>\n",
       "      <th>4</th>\n",
       "      <td>age_related</td>\n",
       "      <td>How old are you ?</td>\n",
       "    </tr>\n",
       "  </tbody>\n",
       "</table>\n",
       "</div>"
      ],
      "text/plain": [
       "        intent                  question\n",
       "0  age_related        Are you an adult ?\n",
       "1  age_related          are you clever ?\n",
       "2  age_related           are you there ?\n",
       "3  age_related  How many years you have?\n",
       "4  age_related         How old are you ?"
      ]
     },
     "execution_count": 12,
     "metadata": {},
     "output_type": "execute_result"
    }
   ],
   "source": [
    "df_quest.head()"
   ]
  },
  {
   "cell_type": "markdown",
   "metadata": {},
   "source": [
    "Finally we need to join between the left and right dataframe to get our final result"
   ]
  },
  {
   "cell_type": "code",
   "execution_count": 13,
   "metadata": {
    "scrolled": false
   },
   "outputs": [
    {
     "data": {
      "text/html": [
       "<div>\n",
       "<style>\n",
       "    .dataframe thead tr:only-child th {\n",
       "        text-align: right;\n",
       "    }\n",
       "\n",
       "    .dataframe thead th {\n",
       "        text-align: left;\n",
       "    }\n",
       "\n",
       "    .dataframe tbody tr th {\n",
       "        vertical-align: top;\n",
       "    }\n",
       "</style>\n",
       "<table border=\"1\" class=\"dataframe\">\n",
       "  <thead>\n",
       "    <tr style=\"text-align: right;\">\n",
       "      <th></th>\n",
       "      <th>intent</th>\n",
       "      <th>answers</th>\n",
       "      <th>question</th>\n",
       "    </tr>\n",
       "  </thead>\n",
       "  <tbody>\n",
       "    <tr>\n",
       "      <th>0</th>\n",
       "      <td>what_are_your_strengths</td>\n",
       "      <td>ClichÃ© question detecting. Waiting for next q...</td>\n",
       "      <td>Tell me 5 positive things about you</td>\n",
       "    </tr>\n",
       "    <tr>\n",
       "      <th>1</th>\n",
       "      <td>what_are_your_strengths</td>\n",
       "      <td>ClichÃ© question detecting. Waiting for next q...</td>\n",
       "      <td>Tell me your strengths</td>\n",
       "    </tr>\n",
       "    <tr>\n",
       "      <th>2</th>\n",
       "      <td>what_are_your_strengths</td>\n",
       "      <td>ClichÃ© question detecting. Waiting for next q...</td>\n",
       "      <td>Tell us Unique Selling Points</td>\n",
       "    </tr>\n",
       "    <tr>\n",
       "      <th>3</th>\n",
       "      <td>what_are_your_strengths</td>\n",
       "      <td>ClichÃ© question detecting. Waiting for next q...</td>\n",
       "      <td>What are you good at ?</td>\n",
       "    </tr>\n",
       "    <tr>\n",
       "      <th>4</th>\n",
       "      <td>what_are_your_strengths</td>\n",
       "      <td>ClichÃ© question detecting. Waiting for next q...</td>\n",
       "      <td>What are your professional strengths ?</td>\n",
       "    </tr>\n",
       "  </tbody>\n",
       "</table>\n",
       "</div>"
      ],
      "text/plain": [
       "                    intent                                            answers  \\\n",
       "0  what_are_your_strengths  ClichÃ© question detecting. Waiting for next q...   \n",
       "1  what_are_your_strengths  ClichÃ© question detecting. Waiting for next q...   \n",
       "2  what_are_your_strengths  ClichÃ© question detecting. Waiting for next q...   \n",
       "3  what_are_your_strengths  ClichÃ© question detecting. Waiting for next q...   \n",
       "4  what_are_your_strengths  ClichÃ© question detecting. Waiting for next q...   \n",
       "\n",
       "                                 question  \n",
       "0     Tell me 5 positive things about you  \n",
       "1                  Tell me your strengths  \n",
       "2           Tell us Unique Selling Points  \n",
       "3                  What are you good at ?  \n",
       "4  What are your professional strengths ?  "
      ]
     },
     "execution_count": 13,
     "metadata": {},
     "output_type": "execute_result"
    }
   ],
   "source": [
    "pd_final = pd.merge(df_qa, df_quest, on='intent', how='outer')\n",
    "\n",
    "pd_final.head()"
   ]
  },
  {
   "cell_type": "code",
   "execution_count": 14,
   "metadata": {
    "collapsed": true
   },
   "outputs": [],
   "source": [
    "# Above dataframe will be exported to the csv for further usage.\n",
    "\n",
    "#pd_final.to_csv('./data/final_qa_data.csv')"
   ]
  },
  {
   "cell_type": "markdown",
   "metadata": {},
   "source": [
    "There is also a need to cleanup the dataset and update the answers manually. Because some of the answers is not relevent and updated to my info. So those information need to be updated manually."
   ]
  },
  {
   "cell_type": "code",
   "execution_count": 15,
   "metadata": {
    "collapsed": true
   },
   "outputs": [],
   "source": [
    "pd_final.to_csv('./data/final_qa_data_tabbed.csv',sep=\"\\t\")"
   ]
  },
  {
   "cell_type": "code",
   "execution_count": null,
   "metadata": {
    "collapsed": true
   },
   "outputs": [],
   "source": []
  }
 ],
 "metadata": {
  "kernelspec": {
   "display_name": "Python 3",
   "language": "python",
   "name": "python3"
  },
  "language_info": {
   "codemirror_mode": {
    "name": "ipython",
    "version": 3
   },
   "file_extension": ".py",
   "mimetype": "text/x-python",
   "name": "python",
   "nbconvert_exporter": "python",
   "pygments_lexer": "ipython3",
   "version": "3.6.1"
  }
 },
 "nbformat": 4,
 "nbformat_minor": 2
}
