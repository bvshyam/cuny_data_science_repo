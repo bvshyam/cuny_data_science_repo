{
 "cells": [
  {
   "cell_type": "code",
   "execution_count": 69,
   "metadata": {},
   "outputs": [],
   "source": [
    "from keras.preprocessing.text import Tokenizer\n",
    "from keras.preprocessing.sequence import pad_sequences\n",
    "import numpy as np\n",
    "from keras.utils import to_categorical\n",
    "\n",
    "from keras.models import Input, Model\n",
    "from keras.layers import Embedding, LSTM, Dense\n",
    "import numpy as np\n",
    "from keras.callbacks import ModelCheckpoint\n",
    "from nltk.translate.bleu_score import corpus_bleu"
   ]
  },
  {
   "cell_type": "code",
   "execution_count": 70,
   "metadata": {
    "collapsed": true
   },
   "outputs": [],
   "source": [
    "def get_data_as_words(data_path = 'fra-eng/final_qa_data.csv', num_samples = 269):\n",
    "    tokenizer_en = Tokenizer(num_words=None, filters='\"#$%&()*+,/:;=?@[\\\\]^_`{|}~\\t\\n',\n",
    "               lower=True,\n",
    "               split=\" \",\n",
    "               char_level=False)\n",
    "    tokenizer_fr = Tokenizer(num_words=None, filters='',\n",
    "                   lower=True,\n",
    "                   split=\" \",\n",
    "                   char_level=False)\n",
    "    \n",
    "    english_sentences = []\n",
    "    french_sentences = []\n",
    "    \n",
    "    lines = open(data_path,encoding='utf8').read().split('\\n')\n",
    "    for line in lines[: min(num_samples, len(lines) - 1)]:\n",
    "        line_split = line.split(',')\n",
    "        english_sentence = [line_split[0].replace('.',' . ').replace('!',' ! ').replace('?',' ? ').replace(',',' , ').replace(\"'\",\" '\")]\n",
    "        english_sentences = english_sentences + english_sentence\n",
    "        french_sentence = ['<START> ' \n",
    "                            + line_split[1].replace('.',' . ').replace('\\u202f',' ').replace('!',' ! ').replace('?',' ? ').replace(',',' , ').replace(\"'\",\" '\")\n",
    "                            + '<STOP>']\n",
    "        french_sentences = french_sentences + french_sentence\n",
    "\n",
    "    tokenizer_en.fit_on_texts(english_sentences)\n",
    "    tokenizer_fr.fit_on_texts(french_sentences)\n",
    "    \n",
    "    idx2Word_en={0:'<PAD>'}\n",
    "    for key, value in tokenizer_en.word_index.items():\n",
    "        idx2Word_en[value] = key\n",
    "    \n",
    "    idx2Word_fr={0:'<PAD>'}\n",
    "    for key, value in tokenizer_fr.word_index.items():\n",
    "        idx2Word_fr[value] = key\n",
    "    \n",
    "    \n",
    "    encoder_input_data = tokenizer_en.texts_to_sequences(english_sentences)\n",
    "    encoder_input_data = pad_sequences(encoder_input_data, maxlen=None, dtype='int32', padding='post', truncating='post', value=0)\n",
    "    french_tokenized = tokenizer_fr.texts_to_sequences(french_sentences)\n",
    "    french_tokenized = pad_sequences(french_tokenized, maxlen=None, dtype='int32', padding='post', truncating='post', value=0)\n",
    "    decoder_input_data = french_tokenized[:,:-1]\n",
    "    decoder_target_data = french_tokenized[:,1:]\n",
    "    word2Idx_en = tokenizer_en.word_index\n",
    "    word2Idx_fr = tokenizer_fr.word_index\n",
    "    num_encoder_tokens = len(idx2Word_en)\n",
    "    num_decoder_tokens = len(idx2Word_fr)\n",
    "    decoder_target_data_cat = to_categorical(decoder_target_data.reshape(1,-1)[0]).reshape(len(decoder_target_data), decoder_target_data.shape[1], num_decoder_tokens)\n",
    "    \n",
    "    return english_sentences, french_sentences, \\\n",
    "            encoder_input_data, \\\n",
    "            decoder_input_data, \\\n",
    "            decoder_target_data_cat, \\\n",
    "            num_encoder_tokens, num_decoder_tokens, \\\n",
    "            idx2Word_en, idx2Word_fr, \\\n",
    "            word2Idx_en, word2Idx_fr"
   ]
  },
  {
   "cell_type": "code",
   "execution_count": 71,
   "metadata": {
    "collapsed": true
   },
   "outputs": [],
   "source": [
    "def get_words_embedding_model_inference(num_encoder_tokens, num_decoder_tokens, latent_dim = 256):\n",
    "    # Define an input sequence and process it.\n",
    "    encoder_inputs = Input(shape=(None,))\n",
    "    x = Embedding(num_encoder_tokens, latent_dim)(encoder_inputs)\n",
    "    x, state_h, state_c = LSTM(latent_dim,\n",
    "                            return_state=True)(x)\n",
    "    encoder_states = [state_h, state_c]\n",
    "\n",
    "    # Set up the decoder, using `encoder_states` as initial state.\n",
    "    decoder_inputs = Input(shape=(None,))\n",
    "    decoder_embedd = Embedding(num_decoder_tokens, latent_dim)\n",
    "    x = decoder_embedd(decoder_inputs)\n",
    "    decoder_lstm = LSTM(latent_dim, return_sequences=True, return_state=True)\n",
    "    x,_,_ = decoder_lstm(x, initial_state=encoder_states)\n",
    "    decoder_dense = Dense(num_decoder_tokens, activation='softmax')\n",
    "    decoder_outputs = decoder_dense(x)\n",
    "\n",
    "    # Define the model that will turn\n",
    "    # `encoder_input_data` & `decoder_input_data` into `decoder_target_data`\n",
    "    model = Model([encoder_inputs, decoder_inputs], decoder_outputs)\n",
    "    encoder_model = Model(encoder_inputs, encoder_states)\n",
    "    decoder_state_input_h = Input(shape=(latent_dim,), name=\"State_input_h\")\n",
    "    decoder_state_input_c = Input(shape=(latent_dim,), name=\"State_input_c\")\n",
    "    decoder_states_inputs = [decoder_state_input_h, decoder_state_input_c]\n",
    "    x = decoder_embedd(decoder_inputs)\n",
    "    decoder_outputs, state_h, state_c = decoder_lstm(x, initial_state=decoder_states_inputs)\n",
    "    decoder_states = [state_h, state_c]\n",
    "    decoder_outputs = decoder_dense(decoder_outputs)\n",
    "    decoder_model = Model([decoder_inputs] + decoder_states_inputs, [decoder_outputs] + decoder_states)\n",
    "    return model, encoder_model, decoder_model"
   ]
  },
  {
   "cell_type": "code",
   "execution_count": 72,
   "metadata": {
    "collapsed": true
   },
   "outputs": [],
   "source": [
    "def get_words_embedding_model(num_encoder_tokens, num_decoder_tokens, latent_dim = 256):\n",
    "    # Define an input sequence and process it.\n",
    "    encoder_inputs = Input(shape=(None,))\n",
    "    x = Embedding(num_encoder_tokens, latent_dim)(encoder_inputs)\n",
    "    x, state_h, state_c = LSTM(latent_dim,\n",
    "                            return_state=True)(x)\n",
    "    encoder_states = [state_h, state_c]\n",
    "\n",
    "    # Set up the decoder, using `encoder_states` as initial state.\n",
    "    decoder_inputs = Input(shape=(None,))\n",
    "    decoder_embedd = Embedding(num_decoder_tokens, latent_dim)\n",
    "    x = decoder_embedd(decoder_inputs)\n",
    "    decoder_lstm = LSTM(latent_dim, return_sequences=True, return_state=True)\n",
    "    x,_,_ = decoder_lstm(x, initial_state=encoder_states)\n",
    "    decoder_dense = Dense(num_decoder_tokens, activation='softmax')\n",
    "    decoder_outputs = decoder_dense(x)\n",
    "\n",
    "    # Define the model that will turn\n",
    "    # `encoder_input_data` & `decoder_input_data` into `decoder_target_data`\n",
    "    model = Model([encoder_inputs, decoder_inputs], decoder_outputs)\n",
    "    return model\n"
   ]
  },
  {
   "cell_type": "code",
   "execution_count": 73,
   "metadata": {},
   "outputs": [
    {
     "name": "stdout",
     "output_type": "stream",
     "text": [
      "__________________________________________________________________________________________________\n",
      "Layer (type)                    Output Shape         Param #     Connected to                     \n",
      "==================================================================================================\n",
      "input_17 (InputLayer)           (None, None)         0                                            \n",
      "__________________________________________________________________________________________________\n",
      "input_18 (InputLayer)           (None, None)         0                                            \n",
      "__________________________________________________________________________________________________\n",
      "embedding_17 (Embedding)        (None, None, 128)    36864       input_17[0][0]                   \n",
      "__________________________________________________________________________________________________\n",
      "embedding_18 (Embedding)        (None, None, 128)    33664       input_18[0][0]                   \n",
      "__________________________________________________________________________________________________\n",
      "lstm_17 (LSTM)                  [(None, 128), (None, 131584      embedding_17[0][0]               \n",
      "__________________________________________________________________________________________________\n",
      "lstm_18 (LSTM)                  [(None, None, 128),  131584      embedding_18[0][0]               \n",
      "                                                                 lstm_17[0][1]                    \n",
      "                                                                 lstm_17[0][2]                    \n",
      "__________________________________________________________________________________________________\n",
      "dense_9 (Dense)                 (None, None, 263)    33927       lstm_18[0][0]                    \n",
      "==================================================================================================\n",
      "Total params: 367,623\n",
      "Trainable params: 367,623\n",
      "Non-trainable params: 0\n",
      "__________________________________________________________________________________________________\n",
      "Train on 209 samples, validate on 53 samples\n",
      "Epoch 1/10\n",
      "128/209 [=================>............] - ETA: 3s - loss: 5.5771Epoch 00001: val_loss improved from inf to 5.30717, saving model to seq2seq_enc_dec_model_128_269_best.hdf5\n"
     ]
    },
    {
     "name": "stderr",
     "output_type": "stream",
     "text": [
      "C:\\ProgramData\\Anaconda3\\lib\\site-packages\\keras\\engine\\topology.py:2344: UserWarning: Layer lstm_18 was passed non-serializable keyword arguments: {'initial_state': [<tf.Tensor 'lstm_17/while/Exit_2:0' shape=(?, 128) dtype=float32>, <tf.Tensor 'lstm_17/while/Exit_3:0' shape=(?, 128) dtype=float32>]}. They will not be included in the serialized model (and thus will be missing at deserialization time).\n",
      "  str(node.arguments) + '. They will not be included '\n"
     ]
    },
    {
     "name": "stdout",
     "output_type": "stream",
     "text": [
      "209/209 [==============================] - 8s 39ms/step - loss: 5.5494 - val_loss: 5.3072\n",
      "Epoch 2/10\n",
      "128/209 [=================>............] - ETA: 0s - loss: 5.4038Epoch 00002: val_loss improved from 5.30717 to 2.85435, saving model to seq2seq_enc_dec_model_128_269_best.hdf5\n",
      "209/209 [==============================] - 1s 5ms/step - loss: 5.2748 - val_loss: 2.8544\n",
      "Epoch 3/10\n",
      "128/209 [=================>............] - ETA: 0s - loss: 3.6795Epoch 00003: val_loss improved from 2.85435 to 1.68006, saving model to seq2seq_enc_dec_model_128_269_best.hdf5\n",
      "209/209 [==============================] - 1s 5ms/step - loss: 3.3844 - val_loss: 1.6801\n",
      "Epoch 4/10\n",
      "128/209 [=================>............] - ETA: 0s - loss: 2.9799Epoch 00004: val_loss did not improve\n",
      "209/209 [==============================] - 1s 5ms/step - loss: 2.9714 - val_loss: 1.6937\n",
      "Epoch 5/10\n",
      "128/209 [=================>............] - ETA: 0s - loss: 2.9226Epoch 00005: val_loss improved from 1.68006 to 1.65369, saving model to seq2seq_enc_dec_model_128_269_best.hdf5\n",
      "209/209 [==============================] - 1s 5ms/step - loss: 2.8891 - val_loss: 1.6537\n",
      "Epoch 6/10\n",
      "128/209 [=================>............] - ETA: 0s - loss: 2.8041Epoch 00006: val_loss improved from 1.65369 to 1.64090, saving model to seq2seq_enc_dec_model_128_269_best.hdf5\n",
      "209/209 [==============================] - 1s 5ms/step - loss: 2.8256 - val_loss: 1.6409\n",
      "Epoch 7/10\n",
      "128/209 [=================>............] - ETA: 0s - loss: 2.7394Epoch 00007: val_loss did not improve\n",
      "209/209 [==============================] - 1s 5ms/step - loss: 2.7583 - val_loss: 1.6669\n",
      "Epoch 8/10\n",
      "128/209 [=================>............] - ETA: 0s - loss: 2.7265Epoch 00008: val_loss did not improve\n",
      "209/209 [==============================] - 1s 5ms/step - loss: 2.7646 - val_loss: 2.0452\n",
      "Epoch 9/10\n",
      "128/209 [=================>............] - ETA: 0s - loss: 2.9152Epoch 00009: val_loss improved from 1.64090 to 1.57489, saving model to seq2seq_enc_dec_model_128_269_best.hdf5\n",
      "209/209 [==============================] - 1s 6ms/step - loss: 2.9202 - val_loss: 1.5749\n",
      "Epoch 10/10\n",
      "128/209 [=================>............] - ETA: 0s - loss: 2.6708Epoch 00010: val_loss improved from 1.57489 to 1.53042, saving model to seq2seq_enc_dec_model_128_269_best.hdf5\n",
      "209/209 [==============================] - 1s 5ms/step - loss: 2.6626 - val_loss: 1.5304\n"
     ]
    }
   ],
   "source": [
    "def main():\n",
    "    num_samples = 269\n",
    "    english_sentences, french_sentences, \\\n",
    "    encoder_input_data, decoder_input_data, decoder_target_data, \\\n",
    "    num_encoder_tokens, num_decoder_tokens, \\\n",
    "    idx2Word_en, idx2Word_fr, \\\n",
    "    word2Idx_en, word2Idx_fr = get_data_as_words(num_samples = num_samples)\n",
    "    latent_dim = 128\n",
    "    model = get_words_embedding_model(num_encoder_tokens, num_decoder_tokens, latent_dim = latent_dim)\n",
    "    model.summary()\n",
    "    # Compile & run training\n",
    "    model.compile(optimizer='rmsprop', loss='categorical_crossentropy')\n",
    "    # Note that `decoder_target_data` needs to be one-hot encoded,\n",
    "    # rather than sequences of integers like `decoder_input_data`!\n",
    "    epochs = 10\n",
    "    batch_size = 128\n",
    "    file_name = 'seq2seq_enc_dec_model_'+str(latent_dim)+'_'+str(num_samples)\n",
    "    checkpoint = ModelCheckpoint(file_name+'_best.hdf5', monitor='val_loss', verbose=1, save_best_only=True)\n",
    "    callbacks_list = [checkpoint]\n",
    "    model.fit([encoder_input_data, decoder_input_data], decoder_target_data,\n",
    "              batch_size=batch_size,\n",
    "              epochs=epochs,\n",
    "              validation_split=0.2,\n",
    "              callbacks = callbacks_list)\n",
    "\n",
    "    file_name = 'seq2seq_enc_dec_model_'+str(latent_dim)+'_'+str(num_samples)\n",
    "    #model.save_weights(file_name+'.hdf5')\n",
    "    np.save(file_name, model.history.history)\n",
    "\n",
    "if __name__ == \"__main__\": main()\n"
   ]
  },
  {
   "cell_type": "code",
   "execution_count": 74,
   "metadata": {},
   "outputs": [
    {
     "data": {
      "text/plain": [
       "(262, 26, 263)"
      ]
     },
     "execution_count": 74,
     "metadata": {},
     "output_type": "execute_result"
    }
   ],
   "source": [
    "decoder_target_data.shape"
   ]
  },
  {
   "cell_type": "code",
   "execution_count": 75,
   "metadata": {
    "scrolled": true
   },
   "outputs": [
    {
     "name": "stdout",
     "output_type": "stream",
     "text": [
      "__________________________________________________________________________________________________\n",
      "Layer (type)                    Output Shape         Param #     Connected to                     \n",
      "==================================================================================================\n",
      "input_19 (InputLayer)           (None, None)         0                                            \n",
      "__________________________________________________________________________________________________\n",
      "input_20 (InputLayer)           (None, None)         0                                            \n",
      "__________________________________________________________________________________________________\n",
      "embedding_19 (Embedding)        (None, None, 128)    36864       input_19[0][0]                   \n",
      "__________________________________________________________________________________________________\n",
      "embedding_20 (Embedding)        (None, None, 128)    33664       input_20[0][0]                   \n",
      "__________________________________________________________________________________________________\n",
      "lstm_19 (LSTM)                  [(None, 128), (None, 131584      embedding_19[0][0]               \n",
      "__________________________________________________________________________________________________\n",
      "lstm_20 (LSTM)                  [(None, None, 128),  131584      embedding_20[0][0]               \n",
      "                                                                 lstm_19[0][1]                    \n",
      "                                                                 lstm_19[0][2]                    \n",
      "__________________________________________________________________________________________________\n",
      "dense_10 (Dense)                (None, None, 263)    33927       lstm_20[0][0]                    \n",
      "==================================================================================================\n",
      "Total params: 367,623\n",
      "Trainable params: 367,623\n",
      "Non-trainable params: 0\n",
      "__________________________________________________________________________________________________\n",
      "_________________________________________________________________\n",
      "Layer (type)                 Output Shape              Param #   \n",
      "=================================================================\n",
      "input_19 (InputLayer)        (None, None)              0         \n",
      "_________________________________________________________________\n",
      "embedding_19 (Embedding)     (None, None, 128)         36864     \n",
      "_________________________________________________________________\n",
      "lstm_19 (LSTM)               [(None, 128), (None, 128) 131584    \n",
      "=================================================================\n",
      "Total params: 168,448\n",
      "Trainable params: 168,448\n",
      "Non-trainable params: 0\n",
      "_________________________________________________________________\n",
      "__________________________________________________________________________________________________\n",
      "Layer (type)                    Output Shape         Param #     Connected to                     \n",
      "==================================================================================================\n",
      "input_20 (InputLayer)           (None, None)         0                                            \n",
      "__________________________________________________________________________________________________\n",
      "embedding_20 (Embedding)        (None, None, 128)    33664       input_20[0][0]                   \n",
      "__________________________________________________________________________________________________\n",
      "State_input_h (InputLayer)      (None, 128)          0                                            \n",
      "__________________________________________________________________________________________________\n",
      "State_input_c (InputLayer)      (None, 128)          0                                            \n",
      "__________________________________________________________________________________________________\n",
      "lstm_20 (LSTM)                  [(None, None, 128),  131584      embedding_20[1][0]               \n",
      "                                                                 State_input_h[0][0]              \n",
      "                                                                 State_input_c[0][0]              \n",
      "__________________________________________________________________________________________________\n",
      "dense_10 (Dense)                (None, None, 263)    33927       lstm_20[1][0]                    \n",
      "==================================================================================================\n",
      "Total params: 199,175\n",
      "Trainable params: 199,175\n",
      "Non-trainable params: 0\n",
      "__________________________________________________________________________________________________\n"
     ]
    }
   ],
   "source": [
    "num_samples = 269 #28500\n",
    "latent_dim = 128 #256\n",
    "english_sentences, french_sentences, \\\n",
    "encoder_input_data, decoder_input_data, decoder_target_data, \\\n",
    "num_encoder_tokens, num_decoder_tokens, \\\n",
    "idx2Word_en, idx2Word_fr, \\\n",
    "word2Idx_en, word2Idx_fr = get_data_as_words(num_samples = num_samples)\n",
    "\n",
    "model, encoder_model, decoder_model = get_words_embedding_model_inference(num_encoder_tokens, num_decoder_tokens, latent_dim = latent_dim)\n",
    "model.summary()\n",
    "encoder_model.summary()\n",
    "decoder_model.summary()"
   ]
  },
  {
   "cell_type": "code",
   "execution_count": 81,
   "metadata": {},
   "outputs": [],
   "source": [
    "max_decoder_seq_length = decoder_target_data.shape[1]\n",
    "def decode_sequence(input_seq):\n",
    "    # Encode the input as state vectors.\n",
    "    states_value = encoder_model.predict(input_seq)\n",
    "    \n",
    "    target_seq = np.array([word2Idx_fr['<start>']])\n",
    "    \n",
    "    # Sampling loop for a batch of sequences\n",
    "    # (to simplify, here we assume a batch of size 1).\n",
    "    stop_condition = False\n",
    "    decoded_sentence = ''\n",
    "    while not stop_condition:\n",
    "        output_tokens, h, c = decoder_model.predict([target_seq] + states_value)\n",
    "        \n",
    "        # Sample a token\n",
    "        sampled_token_index = np.argmax(output_tokens[0, -1, :])\n",
    "        \n",
    "        sampled_char = idx2Word_fr[sampled_token_index]\n",
    "        decoded_sentence = decoded_sentence + sampled_char + ' '\n",
    "\n",
    "        # Exit condition: either hit max length\n",
    "        # or find stop character.\n",
    "        if (sampled_char == '<stop>' or\n",
    "           len(decoded_sentence) > max_decoder_seq_length):\n",
    "            stop_condition = True\n",
    "\n",
    "        # Update the target sequence (of length 1).\n",
    "        target_seq = np.array([sampled_token_index])\n",
    "\n",
    "        # Update states\n",
    "        states_value = [h, c]\n",
    "    return decoded_sentence"
   ]
  },
  {
   "cell_type": "code",
   "execution_count": 82,
   "metadata": {
    "scrolled": true
   },
   "outputs": [
    {
     "name": "stdout",
     "output_type": "stream",
     "text": [
      "Creating references indexes\n",
      "Creating references and translating\n"
     ]
    },
    {
     "ename": "ValueError",
     "evalue": "Error when checking model : the list of Numpy arrays that you are passing to your model is not the size the model expected. Expected to see 3 array(s), but instead got the following list of 1 arrays: [array([2])]...",
     "output_type": "error",
     "traceback": [
      "\u001b[1;31m---------------------------------------------------------------------------\u001b[0m",
      "\u001b[1;31mValueError\u001b[0m                                Traceback (most recent call last)",
      "\u001b[1;32m<ipython-input-82-7cc58a6c2c33>\u001b[0m in \u001b[0;36m<module>\u001b[1;34m()\u001b[0m\n\u001b[0;32m     34\u001b[0m     \u001b[0mprint\u001b[0m\u001b[1;33m(\u001b[0m\u001b[1;34m'Created!'\u001b[0m\u001b[1;33m)\u001b[0m\u001b[1;33m\u001b[0m\u001b[0m\n\u001b[0;32m     35\u001b[0m     \u001b[1;32mreturn\u001b[0m \u001b[0mreferences\u001b[0m\u001b[1;33m,\u001b[0m \u001b[0mcandidates\u001b[0m\u001b[1;33m\u001b[0m\u001b[0m\n\u001b[1;32m---> 36\u001b[1;33m \u001b[0mreferences\u001b[0m\u001b[1;33m,\u001b[0m \u001b[0mcandidates\u001b[0m \u001b[1;33m=\u001b[0m \u001b[0mget_ref_and_cand\u001b[0m\u001b[1;33m(\u001b[0m\u001b[0menglish_sentences\u001b[0m\u001b[1;33m,\u001b[0m \u001b[0mfrench_sentences\u001b[0m\u001b[1;33m,\u001b[0m \u001b[1;36m262\u001b[0m\u001b[1;33m)\u001b[0m\u001b[1;33m\u001b[0m\u001b[0m\n\u001b[0m",
      "\u001b[1;32m<ipython-input-82-7cc58a6c2c33>\u001b[0m in \u001b[0;36mget_ref_and_cand\u001b[1;34m(english_sentences, french_sentences, number_translations)\u001b[0m\n\u001b[0;32m     30\u001b[0m         \u001b[0mreference\u001b[0m \u001b[1;33m=\u001b[0m \u001b[0mlist\u001b[0m\u001b[1;33m(\u001b[0m\u001b[0mfrench_sentences_np\u001b[0m\u001b[1;33m[\u001b[0m\u001b[0mref_idx\u001b[0m\u001b[1;33m]\u001b[0m\u001b[1;33m)\u001b[0m\u001b[1;33m\u001b[0m\u001b[0m\n\u001b[0;32m     31\u001b[0m         \u001b[0mreferences\u001b[0m\u001b[1;33m.\u001b[0m\u001b[0mappend\u001b[0m\u001b[1;33m(\u001b[0m\u001b[0mreference\u001b[0m\u001b[1;33m)\u001b[0m\u001b[1;33m\u001b[0m\u001b[0m\n\u001b[1;32m---> 32\u001b[1;33m         \u001b[0mcandidates\u001b[0m\u001b[1;33m.\u001b[0m\u001b[0mappend\u001b[0m\u001b[1;33m(\u001b[0m\u001b[0mtranslate\u001b[0m\u001b[1;33m(\u001b[0m\u001b[0mcount\u001b[0m\u001b[1;33m)\u001b[0m\u001b[1;33m[\u001b[0m\u001b[1;36m0\u001b[0m\u001b[1;33m]\u001b[0m\u001b[1;33m)\u001b[0m\u001b[1;33m\u001b[0m\u001b[0m\n\u001b[0m\u001b[0;32m     33\u001b[0m         \u001b[0mcount\u001b[0m \u001b[1;33m=\u001b[0m \u001b[0mcount\u001b[0m\u001b[1;33m+\u001b[0m\u001b[0mlen\u001b[0m\u001b[1;33m(\u001b[0m\u001b[0mreference\u001b[0m\u001b[1;33m)\u001b[0m\u001b[1;33m\u001b[0m\u001b[0m\n\u001b[0;32m     34\u001b[0m     \u001b[0mprint\u001b[0m\u001b[1;33m(\u001b[0m\u001b[1;34m'Created!'\u001b[0m\u001b[1;33m)\u001b[0m\u001b[1;33m\u001b[0m\u001b[0m\n",
      "\u001b[1;32m<ipython-input-82-7cc58a6c2c33>\u001b[0m in \u001b[0;36mtranslate\u001b[1;34m(sec_n)\u001b[0m\n\u001b[0;32m      3\u001b[0m     \u001b[0minput_seq\u001b[0m \u001b[1;33m=\u001b[0m \u001b[0mencoder_input_data\u001b[0m\u001b[1;33m[\u001b[0m\u001b[0msec_n\u001b[0m\u001b[1;33m:\u001b[0m\u001b[0msec_n\u001b[0m\u001b[1;33m+\u001b[0m\u001b[1;36m1\u001b[0m\u001b[1;33m]\u001b[0m\u001b[1;33m\u001b[0m\u001b[0m\n\u001b[0;32m      4\u001b[0m     \u001b[1;31m# print([idx2Word_en[word] for word in input_seq[0]])\u001b[0m\u001b[1;33m\u001b[0m\u001b[1;33m\u001b[0m\u001b[0m\n\u001b[1;32m----> 5\u001b[1;33m     \u001b[0mdecoded_sentence\u001b[0m \u001b[1;33m=\u001b[0m \u001b[0mdecode_sequence\u001b[0m\u001b[1;33m(\u001b[0m\u001b[0minput_seq\u001b[0m\u001b[1;33m)\u001b[0m\u001b[1;33m\u001b[0m\u001b[0m\n\u001b[0m\u001b[0;32m      6\u001b[0m     \u001b[1;32mreturn\u001b[0m \u001b[0mdecoded_sentence\u001b[0m\u001b[1;33m.\u001b[0m\u001b[0mreplace\u001b[0m\u001b[1;33m(\u001b[0m\u001b[1;34m'<stop>'\u001b[0m\u001b[1;33m,\u001b[0m\u001b[1;34m''\u001b[0m\u001b[1;33m)\u001b[0m\u001b[1;33m.\u001b[0m\u001b[0msplit\u001b[0m\u001b[1;33m(\u001b[0m\u001b[1;33m)\u001b[0m\u001b[1;33m,\u001b[0m         \u001b[0mfrench_sentences\u001b[0m\u001b[1;33m[\u001b[0m\u001b[0msec_n\u001b[0m\u001b[1;33m]\u001b[0m\u001b[1;33m.\u001b[0m\u001b[0mreplace\u001b[0m\u001b[1;33m(\u001b[0m\u001b[1;34m'<START>'\u001b[0m\u001b[1;33m,\u001b[0m\u001b[1;34m''\u001b[0m\u001b[1;33m)\u001b[0m\u001b[1;33m.\u001b[0m\u001b[0mreplace\u001b[0m\u001b[1;33m(\u001b[0m\u001b[1;34m'<STOP>'\u001b[0m\u001b[1;33m,\u001b[0m\u001b[1;34m''\u001b[0m\u001b[1;33m)\u001b[0m\u001b[1;33m.\u001b[0m\u001b[0mlower\u001b[0m\u001b[1;33m(\u001b[0m\u001b[1;33m)\u001b[0m\u001b[1;33m.\u001b[0m\u001b[0msplit\u001b[0m\u001b[1;33m(\u001b[0m\u001b[1;33m)\u001b[0m\u001b[1;33m\u001b[0m\u001b[0m\n\u001b[0;32m      7\u001b[0m \u001b[1;33m\u001b[0m\u001b[0m\n",
      "\u001b[1;32m<ipython-input-81-eecf3da5b7bb>\u001b[0m in \u001b[0;36mdecode_sequence\u001b[1;34m(input_seq)\u001b[0m\n\u001b[0;32m     11\u001b[0m     \u001b[0mdecoded_sentence\u001b[0m \u001b[1;33m=\u001b[0m \u001b[1;34m''\u001b[0m\u001b[1;33m\u001b[0m\u001b[0m\n\u001b[0;32m     12\u001b[0m     \u001b[1;32mwhile\u001b[0m \u001b[1;32mnot\u001b[0m \u001b[0mstop_condition\u001b[0m\u001b[1;33m:\u001b[0m\u001b[1;33m\u001b[0m\u001b[0m\n\u001b[1;32m---> 13\u001b[1;33m         \u001b[0moutput_tokens\u001b[0m\u001b[1;33m,\u001b[0m \u001b[0mh\u001b[0m\u001b[1;33m,\u001b[0m \u001b[0mc\u001b[0m \u001b[1;33m=\u001b[0m \u001b[0mdecoder_model\u001b[0m\u001b[1;33m.\u001b[0m\u001b[0mpredict\u001b[0m\u001b[1;33m(\u001b[0m\u001b[1;33m[\u001b[0m\u001b[0mtarget_seq\u001b[0m\u001b[1;33m]\u001b[0m \u001b[1;33m+\u001b[0m \u001b[0mstates_value\u001b[0m\u001b[1;33m)\u001b[0m\u001b[1;33m\u001b[0m\u001b[0m\n\u001b[0m\u001b[0;32m     14\u001b[0m \u001b[1;33m\u001b[0m\u001b[0m\n\u001b[0;32m     15\u001b[0m         \u001b[1;31m# Sample a token\u001b[0m\u001b[1;33m\u001b[0m\u001b[1;33m\u001b[0m\u001b[0m\n",
      "\u001b[1;32mC:\\ProgramData\\Anaconda3\\lib\\site-packages\\keras\\engine\\training.py\u001b[0m in \u001b[0;36mpredict\u001b[1;34m(self, x, batch_size, verbose, steps)\u001b[0m\n\u001b[0;32m   1728\u001b[0m         x = _standardize_input_data(x, self._feed_input_names,\n\u001b[0;32m   1729\u001b[0m                                     \u001b[0mself\u001b[0m\u001b[1;33m.\u001b[0m\u001b[0m_feed_input_shapes\u001b[0m\u001b[1;33m,\u001b[0m\u001b[1;33m\u001b[0m\u001b[0m\n\u001b[1;32m-> 1730\u001b[1;33m                                     check_batch_axis=False)\n\u001b[0m\u001b[0;32m   1731\u001b[0m         \u001b[1;32mif\u001b[0m \u001b[0mself\u001b[0m\u001b[1;33m.\u001b[0m\u001b[0mstateful\u001b[0m\u001b[1;33m:\u001b[0m\u001b[1;33m\u001b[0m\u001b[0m\n\u001b[0;32m   1732\u001b[0m             \u001b[1;32mif\u001b[0m \u001b[0mx\u001b[0m\u001b[1;33m[\u001b[0m\u001b[1;36m0\u001b[0m\u001b[1;33m]\u001b[0m\u001b[1;33m.\u001b[0m\u001b[0mshape\u001b[0m\u001b[1;33m[\u001b[0m\u001b[1;36m0\u001b[0m\u001b[1;33m]\u001b[0m \u001b[1;33m>\u001b[0m \u001b[0mbatch_size\u001b[0m \u001b[1;32mand\u001b[0m \u001b[0mx\u001b[0m\u001b[1;33m[\u001b[0m\u001b[1;36m0\u001b[0m\u001b[1;33m]\u001b[0m\u001b[1;33m.\u001b[0m\u001b[0mshape\u001b[0m\u001b[1;33m[\u001b[0m\u001b[1;36m0\u001b[0m\u001b[1;33m]\u001b[0m \u001b[1;33m%\u001b[0m \u001b[0mbatch_size\u001b[0m \u001b[1;33m!=\u001b[0m \u001b[1;36m0\u001b[0m\u001b[1;33m:\u001b[0m\u001b[1;33m\u001b[0m\u001b[0m\n",
      "\u001b[1;32mC:\\ProgramData\\Anaconda3\\lib\\site-packages\\keras\\engine\\training.py\u001b[0m in \u001b[0;36m_standardize_input_data\u001b[1;34m(data, names, shapes, check_batch_axis, exception_prefix)\u001b[0m\n\u001b[0;32m     87\u001b[0m                                  \u001b[1;34m'the following list of '\u001b[0m \u001b[1;33m+\u001b[0m \u001b[0mstr\u001b[0m\u001b[1;33m(\u001b[0m\u001b[0mlen\u001b[0m\u001b[1;33m(\u001b[0m\u001b[0mdata\u001b[0m\u001b[1;33m)\u001b[0m\u001b[1;33m)\u001b[0m \u001b[1;33m+\u001b[0m\u001b[1;33m\u001b[0m\u001b[0m\n\u001b[0;32m     88\u001b[0m                                  \u001b[1;34m' arrays: '\u001b[0m \u001b[1;33m+\u001b[0m \u001b[0mstr\u001b[0m\u001b[1;33m(\u001b[0m\u001b[0mdata\u001b[0m\u001b[1;33m)\u001b[0m\u001b[1;33m[\u001b[0m\u001b[1;33m:\u001b[0m\u001b[1;36m200\u001b[0m\u001b[1;33m]\u001b[0m \u001b[1;33m+\u001b[0m\u001b[1;33m\u001b[0m\u001b[0m\n\u001b[1;32m---> 89\u001b[1;33m                                  '...')\n\u001b[0m\u001b[0;32m     90\u001b[0m             \u001b[1;32melse\u001b[0m\u001b[1;33m:\u001b[0m\u001b[1;33m\u001b[0m\u001b[0m\n\u001b[0;32m     91\u001b[0m                 \u001b[1;32mif\u001b[0m \u001b[0mlen\u001b[0m\u001b[1;33m(\u001b[0m\u001b[0mnames\u001b[0m\u001b[1;33m)\u001b[0m \u001b[1;33m==\u001b[0m \u001b[1;36m1\u001b[0m\u001b[1;33m:\u001b[0m\u001b[1;33m\u001b[0m\u001b[0m\n",
      "\u001b[1;31mValueError\u001b[0m: Error when checking model : the list of Numpy arrays that you are passing to your model is not the size the model expected. Expected to see 3 array(s), but instead got the following list of 1 arrays: [array([2])]..."
     ]
    }
   ],
   "source": [
    "### 0, 10, 19, 1000, 1001\n",
    "def translate(sec_n = 0):\n",
    "    input_seq = encoder_input_data[sec_n:sec_n+1]\n",
    "    # print([idx2Word_en[word] for word in input_seq[0]])\n",
    "    decoded_sentence = decode_sequence(input_seq)\n",
    "    return decoded_sentence.replace('<stop>','').split(), \\\n",
    "        french_sentences[sec_n].replace('<START>','').replace('<STOP>','').lower().split()\n",
    "\n",
    "def get_ref_and_cand(english_sentences, french_sentences, number_translations):\n",
    "    english_sentences_np = np.array(english_sentences)\n",
    "    french_sentences_as_list = [sen.replace('<START>','').replace('<STOP>','').lower().split() for sen in french_sentences]\n",
    "    french_sentences_np = np.array(french_sentences_as_list)\n",
    "    print('Creating references indexes')\n",
    "    reference_indexes = []\n",
    "    for eng_np in english_sentences_np:\n",
    "        indxs = np.array(np.where(english_sentences_np==eng_np)[0])\n",
    "        if (len(reference_indexes)>0):\n",
    "            if len(reference_indexes[-1])!=len(indxs):\n",
    "                result = 0\n",
    "            else:\n",
    "                result = (reference_indexes[-1] == indxs).prod()  \n",
    "            if (result==0):\n",
    "                reference_indexes.append(indxs)\n",
    "        else:\n",
    "            reference_indexes.append(indxs)\n",
    "    print('Creating references and translating')\n",
    "    references = []\n",
    "    candidates = []\n",
    "    count = 0\n",
    "    for ref_idx  in reference_indexes[:number_translations]:\n",
    "        reference = list(french_sentences_np[ref_idx])\n",
    "        references.append(reference)\n",
    "        candidates.append(translate(count)[0])\n",
    "        count = count+len(reference)\n",
    "    print('Created!')\n",
    "    return references, candidates\n",
    "references, candidates = get_ref_and_cand(english_sentences, french_sentences, 262)"
   ]
  },
  {
   "cell_type": "code",
   "execution_count": 36,
   "metadata": {},
   "outputs": [
    {
     "data": {
      "text/plain": [
       "[['ils', 'donne-les-moi'],\n",
       " ['ils', 'donne-les-moi'],\n",
       " ['ils', 'donne-les-moi'],\n",
       " ['ils', 'donne-les-moi'],\n",
       " ['ils', 'donne-les-moi'],\n",
       " ['ils', 'donne-les-moi'],\n",
       " ['ils', 'donne-les-moi'],\n",
       " ['ils', 'donne-les-moi'],\n",
       " ['ils', 'donne-les-moi'],\n",
       " ['ils', 'donne-les-moi']]"
      ]
     },
     "execution_count": 36,
     "metadata": {},
     "output_type": "execute_result"
    }
   ],
   "source": [
    "candidates[:10]"
   ]
  },
  {
   "cell_type": "code",
   "execution_count": 33,
   "metadata": {},
   "outputs": [
    {
     "name": "stdout",
     "output_type": "stream",
     "text": [
      "0.14241131333821394\n"
     ]
    },
    {
     "name": "stderr",
     "output_type": "stream",
     "text": [
      "C:\\ProgramData\\Anaconda3\\lib\\site-packages\\nltk\\translate\\bleu_score.py:490: UserWarning: \n",
      "Corpus/Sentence contains 0 counts of 2-gram overlaps.\n",
      "BLEU scores might be undesirable; use SmoothingFunction().\n",
      "  warnings.warn(_msg)\n"
     ]
    }
   ],
   "source": [
    "score = corpus_bleu(references, candidates)\n",
    "print(score)\n",
    "\n",
    "history = np.load('seq2seq_enc_dec_model_128_1000.npy')\n",
    "from matplotlib import pyplot as plt"
   ]
  },
  {
   "cell_type": "code",
   "execution_count": 34,
   "metadata": {},
   "outputs": [
    {
     "data": {
      "image/png": "[encoded data removed]",
      "text/plain": [
       "<matplotlib.figure.Figure at 0x12510be0>"
      ]
     },
     "metadata": {},
     "output_type": "display_data"
    }
   ],
   "source": [
    "plt.plot(history.reshape(1)[0]['val_loss'])\n",
    "plt.plot(history.reshape(1)[0]['loss'])\n",
    "plt.show()"
   ]
  },
  {
   "cell_type": "code",
   "execution_count": null,
   "metadata": {
    "collapsed": true
   },
   "outputs": [],
   "source": []
  }
 ],
 "metadata": {
  "kernelspec": {
   "display_name": "Python 3",
   "language": "python",
   "name": "python3"
  },
  "language_info": {
   "codemirror_mode": {
    "name": "ipython",
    "version": 3
   },
   "file_extension": ".py",
   "mimetype": "text/x-python",
   "name": "python",
   "nbconvert_exporter": "python",
   "pygments_lexer": "ipython3",
   "version": "3.6.1"
  }
 },
 "nbformat": 4,
 "nbformat_minor": 2
}
