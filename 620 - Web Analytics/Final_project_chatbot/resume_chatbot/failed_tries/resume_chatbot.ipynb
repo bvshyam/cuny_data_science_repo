{
 "cells": [
  {
   "cell_type": "markdown",
   "metadata": {
    "collapsed": true
   },
   "source": [
    "# Resume Chatbot\n",
    "\n",
    "## Web Analytics Final project\n",
    "\n",
    "This is part of the final project on 620 Web Analytics course. \n",
    "\n",
    "## Introduction\n",
    "In this notebook, you will build a deep neural network that functions as part of an end-to-end machine translation pipeline. Your completed pipeline will accept English text as input and return the French translation.\n",
    "\n",
    "- **Preprocess** - You'll convert text to sequence of integers.\n",
    "- **Models** Create models which accepts a sequence of integers as input and returns a probability distribution over possible translations. After learning about the basic types of neural networks that are often used for machine translation, you will engage in your own investigations, to design your own model!\n",
    "- **Prediction** Run the model on English text.\n",
    "\n",
    "## Dataset\n",
    "We begin by investigating the dataset that will be used to train and evaluate your pipeline.  The most common datasets used for machine translation are from [WMT](http://www.statmt.org/).  However, that will take a long time to train a neural network on.  We'll be using a dataset we created for this project that contains a small vocabulary.  You'll be able to train your model in a reasonable time with this dataset.\n",
    "### Load Data\n",
    "The data is located in `data/small_vocab_en` and `data/small_vocab_fr`. The `small_vocab_en` file contains English sentences with their French translations in the `small_vocab_fr` file. Load the English and French data from these files from running the cell below."
   ]
  },
  {
   "cell_type": "code",
   "execution_count": 2,
   "metadata": {
    "collapsed": true,
    "scrolled": true
   },
   "outputs": [],
   "source": [
    "from keras.layers import GRU, Input, Dense, TimeDistributed, SimpleRNN, LSTM\n",
    "from keras.models import Model\n",
    "from keras.models import Sequential\n",
    "from keras.layers import Activation\n",
    "from keras.optimizers import Adam\n",
    "from keras.losses import sparse_categorical_crossentropy\n",
    "from keras.callbacks import ModelCheckpoint\n",
    "from keras.layers import Dropout\n",
    "from keras.layers import Dropout, Bidirectional, RepeatVector\n",
    "from keras.layers.embeddings import Embedding\n",
    "import collections\n",
    "import pandas as pd\n",
    "import nltk\n",
    "\n",
    "from keras.preprocessing.text import Tokenizer,text_to_word_sequence\n",
    "import numpy as np\n",
    "from keras.preprocessing.sequence import pad_sequences\n",
    "import numpy as np\n",
    "from keras.preprocessing.sequence import pad_sequences\n",
    "from keras.models import load_model\n",
    "from autocorrect import spell\n",
    "from scipy.spatial import distance\n",
    "import time"
   ]
  },
  {
   "cell_type": "code",
   "execution_count": 3,
   "metadata": {
    "scrolled": true
   },
   "outputs": [
    {
     "data": {
      "text/html": [
       "<div>\n",
       "<style>\n",
       "    .dataframe thead tr:only-child th {\n",
       "        text-align: right;\n",
       "    }\n",
       "\n",
       "    .dataframe thead th {\n",
       "        text-align: left;\n",
       "    }\n",
       "\n",
       "    .dataframe tbody tr th {\n",
       "        vertical-align: top;\n",
       "    }\n",
       "</style>\n",
       "<table border=\"1\" class=\"dataframe\">\n",
       "  <thead>\n",
       "    <tr style=\"text-align: right;\">\n",
       "      <th></th>\n",
       "      <th>Question</th>\n",
       "      <th>Answer</th>\n",
       "    </tr>\n",
       "  </thead>\n",
       "  <tbody>\n",
       "    <tr>\n",
       "      <th>0</th>\n",
       "      <td>Tell me 5 positive things about you</td>\n",
       "      <td>Tricky question detecting. Waiting for next qu...</td>\n",
       "    </tr>\n",
       "    <tr>\n",
       "      <th>1</th>\n",
       "      <td>Tell me your strengths</td>\n",
       "      <td>Tricky question detecting. Waiting for next qu...</td>\n",
       "    </tr>\n",
       "    <tr>\n",
       "      <th>2</th>\n",
       "      <td>Tell us Unique Selling Points</td>\n",
       "      <td>Tricky question detecting. Waiting for next qu...</td>\n",
       "    </tr>\n",
       "    <tr>\n",
       "      <th>3</th>\n",
       "      <td>What are you good at ?</td>\n",
       "      <td>Tricky question detecting. Waiting for next qu...</td>\n",
       "    </tr>\n",
       "    <tr>\n",
       "      <th>4</th>\n",
       "      <td>What are your professional strengths ?</td>\n",
       "      <td>Tricky question detecting. Waiting for next qu...</td>\n",
       "    </tr>\n",
       "  </tbody>\n",
       "</table>\n",
       "</div>"
      ],
      "text/plain": [
       "                                 Question  \\\n",
       "0     Tell me 5 positive things about you   \n",
       "1                  Tell me your strengths   \n",
       "2           Tell us Unique Selling Points   \n",
       "3                  What are you good at ?   \n",
       "4  What are your professional strengths ?   \n",
       "\n",
       "                                              Answer  \n",
       "0  Tricky question detecting. Waiting for next qu...  \n",
       "1  Tricky question detecting. Waiting for next qu...  \n",
       "2  Tricky question detecting. Waiting for next qu...  \n",
       "3  Tricky question detecting. Waiting for next qu...  \n",
       "4  Tricky question detecting. Waiting for next qu...  "
      ]
     },
     "execution_count": 3,
     "metadata": {},
     "output_type": "execute_result"
    }
   ],
   "source": [
    "df = pd.read_csv('./data/final_qa_data.csv',sep=',')\n",
    "df.head()"
   ]
  },
  {
   "cell_type": "code",
   "execution_count": 4,
   "metadata": {},
   "outputs": [
    {
     "name": "stdout",
     "output_type": "stream",
     "text": [
      "Dataset Loaded\n"
     ]
    }
   ],
   "source": [
    "question_sentences = df.Question.values\n",
    "answer_sentences = df.Answer.values\n",
    "\n",
    "print('Dataset Loaded')"
   ]
  },
  {
   "cell_type": "code",
   "execution_count": 5,
   "metadata": {},
   "outputs": [
    {
     "data": {
      "text/plain": [
       "261"
      ]
     },
     "execution_count": 5,
     "metadata": {},
     "output_type": "execute_result"
    }
   ],
   "source": [
    "len(answer_sentences)"
   ]
  },
  {
   "cell_type": "markdown",
   "metadata": {},
   "source": [
    "### Files\n",
    "Each line in `small_vocab_en` contains an English sentence with the respective translation in each line of `small_vocab_fr`.  View the first two lines from each file."
   ]
  },
  {
   "cell_type": "code",
   "execution_count": 6,
   "metadata": {},
   "outputs": [
    {
     "name": "stdout",
     "output_type": "stream",
     "text": [
      "small_vocab_en Line 1:  Tell me 5 positive things about you\n",
      "small_vocab_fr Line 1:  Tricky question detecting. Waiting for next question...\n",
      "small_vocab_en Line 2:  Tell me your strengths\n",
      "small_vocab_fr Line 2:  Tricky question detecting. Waiting for next question...\n"
     ]
    }
   ],
   "source": [
    "for sample_i in range(2):\n",
    "    print('small_vocab_en Line {}:  {}'.format(sample_i + 1, question_sentences[sample_i]))\n",
    "    print('small_vocab_fr Line {}:  {}'.format(sample_i + 1, answer_sentences[sample_i]))"
   ]
  },
  {
   "cell_type": "code",
   "execution_count": 7,
   "metadata": {},
   "outputs": [
    {
     "data": {
      "text/plain": [
       "['tell', 'me', '5', 'positive', 'things', 'about', 'you']"
      ]
     },
     "execution_count": 7,
     "metadata": {},
     "output_type": "execute_result"
    }
   ],
   "source": [
    "text_to_word_sequence(question_sentences[0])"
   ]
  },
  {
   "cell_type": "markdown",
   "metadata": {},
   "source": [
    "From looking at the sentences, you can see they have been preprocessed already.  The puncuations have been delimited using spaces. All the text have been converted to lowercase.  This should save you some time, but the text requires more preprocessing.\n",
    "### Vocabulary\n",
    "The complexity of the problem is determined by the complexity of the vocabulary.  A more complex vocabulary is a more complex problem.  Let's look at the complexity of the dataset we'll be working with."
   ]
  },
  {
   "cell_type": "code",
   "execution_count": 8,
   "metadata": {
    "collapsed": true
   },
   "outputs": [],
   "source": [
    "def preprocess_cleaning(texts):\n",
    "    \n",
    "    text_cleaned = []\n",
    "    \n",
    "#    for text in texts:\n",
    "#        for raw_word in text_to_word_sequence(text,filters='', lower=True):\n",
    "            #\n",
    "#           l1 = ['won’t','won\\'t','wouldn’t','wouldn\\'t','’m', '’re', '’ve', '’ll', '’s','’d', 'n’t', '\\'m', '\\'re', '\\'ve', '\\'ll', '\\'s', '\\'d', 'can\\'t', 'n\\'t', 'B: ', 'A: ', ',', ';', '.', '?', '!', ':', '. ?', ',   .', '. ,', 'EOS', 'BOS', 'eos', 'bos']\n",
    "#            l2 = ['will not','will not','would not','would not',' am', ' are', ' have', ' will', ' is', ' had', ' not', ' am', ' are', ' have', ' will', ' is', ' had', 'can not', ' not', '', '', ' ,', ' ;', ' .', ' ?', ' !', ' :', '? ', '.', ',', '', '', '', '']\n",
    "\n",
    "#            raw_word = raw_word.lower()\n",
    "\n",
    "#            for j, term in enumerate(l1):\n",
    "#                raw_word = raw_word.replace(term,l2[j])\n",
    "\n",
    "#            for j in range(30):\n",
    "#                raw_word = raw_word.replace('. .', '')\n",
    "#                raw_word = raw_word.replace('.  .', '')\n",
    "#                raw_word = raw_word.replace('..', '')\n",
    "#                raw_word = raw_word.replace('...', '')\n",
    "\n",
    "#            for j in range(5):\n",
    "#                raw_word = raw_word.replace('  ', ' ')\n",
    "                \n",
    "#            text_cleaned.append(raw_word)\n",
    "            \n",
    "        #text_cleaned.append(raw_word)\n",
    "        #print(text_cleaned)\n",
    "        #Convert to lower and tokenize\n",
    "        \n",
    "        #text_cleaned.append(' '.join(text_to_word_sequence(raw_word,filters='', lower=True)))\n",
    "        \n",
    "    text_cleaned = [' '.join(nltk.tokenize.word_tokenize(word.lower(),preserve_line=True)) for word in texts]\n",
    "        \n",
    "        \n",
    "        \n",
    "    return text_cleaned\n",
    "    #return [' '.join(text_to_word_sequence(text,filters='', lower=True)) for text in raw_word]\n",
    "    "
   ]
  },
  {
   "cell_type": "code",
   "execution_count": 9,
   "metadata": {
    "collapsed": true
   },
   "outputs": [],
   "source": [
    "question_sentences = preprocess_cleaning(question_sentences)\n",
    "answer_sentences = preprocess_cleaning(answer_sentences)\n",
    "\n",
    "#[' '.join(text_to_word_sequence(text)) for text in question_sentences]"
   ]
  },
  {
   "cell_type": "code",
   "execution_count": 10,
   "metadata": {},
   "outputs": [
    {
     "name": "stdout",
     "output_type": "stream",
     "text": [
      "1124 words in questions.\n",
      "288 unique English words.\n",
      "10 Most common words in the questions dataset:\n",
      "\"you\" \"?\" \"what\" \"do\" \"are\" \"your\" \"how\" \"i\" \"'s\" \"tell\"\n",
      "\n",
      "3361 words in answers.\n",
      "292 unique English words.\n",
      "10 Most common words in the answers dataset:\n",
      "\"i\" \"you\" \":\" \"to\" \",\" \"my\" \"...\" \"a\" \"and\" \".\"\n"
     ]
    }
   ],
   "source": [
    "\n",
    "question_words_counter = collections.Counter([word for sentence in question_sentences for word in sentence.split()])\n",
    "answer_words_counter = collections.Counter([word for sentence in answer_sentences for word in sentence.split()])\n",
    "\n",
    "print('{} words in questions.'.format(len([word for sentence in question_sentences for word in sentence.split()])))\n",
    "print('{} unique English words.'.format(len(question_words_counter)))\n",
    "print('10 Most common words in the questions dataset:')\n",
    "print('\"' + '\" \"'.join(list(zip(*question_words_counter.most_common(10)))[0]) + '\"')\n",
    "print()\n",
    "print('{} words in answers.'.format(len([word for sentence in answer_sentences for word in sentence.split()])))\n",
    "print('{} unique English words.'.format(len(answer_words_counter)))\n",
    "print('10 Most common words in the answers dataset:')\n",
    "print('\"' + '\" \"'.join(list(zip(*answer_words_counter.most_common(10)))[0]) + '\"')"
   ]
  },
  {
   "cell_type": "code",
   "execution_count": 11,
   "metadata": {},
   "outputs": [
    {
     "data": {
      "text/plain": [
       "[('you', 110),\n",
       " ('?', 102),\n",
       " ('what', 66),\n",
       " ('do', 38),\n",
       " ('are', 36),\n",
       " ('your', 31),\n",
       " ('how', 27),\n",
       " ('i', 19),\n",
       " (\"'s\", 19),\n",
       " ('tell', 17),\n",
       " ('me', 17),\n",
       " ('about', 17),\n",
       " ('to', 16),\n",
       " ('a', 15),\n",
       " ('is', 15),\n",
       " ('can', 13),\n",
       " ('work', 13),\n",
       " ('the', 13),\n",
       " ('have', 12),\n",
       " ('where', 10)]"
      ]
     },
     "execution_count": 11,
     "metadata": {},
     "output_type": "execute_result"
    }
   ],
   "source": [
    "question_words_counter.most_common(20)"
   ]
  },
  {
   "cell_type": "markdown",
   "metadata": {},
   "source": [
    "For comparison, _Alice's Adventures in Wonderland_ contains 2,766 unique words of a total of 15,500 words.\n",
    "## Preprocess\n",
    "For this project, you won't use text data as input to your model. Instead, you'll convert the text into sequences of integers using the following preprocess methods:\n",
    "1. Tokenize the words into ids\n",
    "2. Add padding to make all the sequences the same length.\n",
    "\n",
    "Time to start preprocessing the data...\n",
    "### Tokenize (IMPLEMENTATION)\n",
    "For a neural network to predict on text data, it first has to be turned into data it can understand. Text data like \"dog\" is a sequence of ASCII character encodings.  Since a neural network is a series of multiplication and addition operations, the input data needs to be number(s).\n",
    "\n",
    "We can turn each character into a number or each word into a number.  These are called character and word ids, respectively.  Character ids are used for character level models that generate text predictions for each character.  A word level model uses word ids that generate text predictions for each word.  Word level models tend to learn better, since they are lower in complexity, so we'll use those.\n",
    "\n",
    "Turn each sentence into a sequence of words ids using Keras's [`Tokenizer`](https://keras.io/preprocessing/text/#tokenizer) function. Use this function to tokenize `question_sentences` and `answer_sentences` in the cell below.\n",
    "\n",
    "Running the cell will run `tokenize` on sample data and show output for debugging."
   ]
  },
  {
   "cell_type": "code",
   "execution_count": 12,
   "metadata": {},
   "outputs": [
    {
     "name": "stdout",
     "output_type": "stream",
     "text": [
      "{'.': 1, 'the': 2, 'quick': 3, 'a': 4, 'brown': 5, 'fox': 6, 'jumps': 7, 'over': 8, 'lazy': 9, 'dog': 10, 'by': 11, 'jove': 12, ',': 13, 'my': 14, 'study': 15, 'of': 16, 'lexicography': 17, 'won': 18, 'prize': 19, 'this': 20, 'is': 21, 'short': 22, 'sentence': 23}\n",
      "\n",
      "Sequence 1 in x\n",
      "  Input:  The quick brown fox jumps over the lazy dog.\n",
      "  Output: [2, 3, 5, 6, 7, 8, 2, 9, 10, 1]\n",
      "Sequence 2 in x\n",
      "  Input:  By Jove , my quick study of lexicography won a prize.\n",
      "  Output: [11, 12, 13, 14, 3, 15, 16, 17, 18, 4, 19, 1]\n",
      "Sequence 3 in x\n",
      "  Input:  This is a short sentence .\n",
      "  Output: [20, 21, 4, 22, 23, 1]\n"
     ]
    }
   ],
   "source": [
    "\n",
    "\n",
    "def tokenize(x):\n",
    "    \"\"\"\n",
    "    Tokenize x\n",
    "    :param x: List of sentences/strings to be tokenized\n",
    "    :return: Tuple of (tokenized x data, tokenizer used to tokenize x)\n",
    "    \"\"\"\n",
    "    # TODO: Implement\n",
    "    x = [' '.join(nltk.tokenize.word_tokenize(word.lower(),preserve_line=True)) for word in x]\n",
    "\n",
    "    tokenizer = Tokenizer(num_words=None, filters=\"\", lower=True, split=\" \")\n",
    "    tokenizer.fit_on_texts(x)\n",
    "    return tokenizer.texts_to_sequences(x), tokenizer\n",
    "\n",
    "\n",
    "# Tokenize Example output\n",
    "text_sentences = [\n",
    "    'The quick brown fox jumps over the lazy dog.',\n",
    "    'By Jove , my quick study of lexicography won a prize.',\n",
    "    'This is a short sentence .']\n",
    "text_tokenized, text_tokenizer = tokenize(text_sentences)\n",
    "print(text_tokenizer.word_index)\n",
    "print()\n",
    "for sample_i, (sent, token_sent) in enumerate(zip(text_sentences, text_tokenized)):\n",
    "    print('Sequence {} in x'.format(sample_i + 1))\n",
    "    print('  Input:  {}'.format(sent))\n",
    "    print('  Output: {}'.format(token_sent))"
   ]
  },
  {
   "cell_type": "markdown",
   "metadata": {},
   "source": [
    "### Padding (IMPLEMENTATION)\n",
    "When batching the sequence of word ids together, each sequence needs to be the same length.  Since sentences are dynamic in length, we can add padding to the end of the sequences to make them the same length.\n",
    "\n",
    "Make sure all the English sequences have the same length and all the French sequences have the same length by adding padding to the **end** of each sequence using Keras's [`pad_sequences`](https://keras.io/preprocessing/sequence/#pad_sequences) function."
   ]
  },
  {
   "cell_type": "code",
   "execution_count": 13,
   "metadata": {},
   "outputs": [
    {
     "name": "stdout",
     "output_type": "stream",
     "text": [
      "Sequence 1 in x\n",
      "  Input:  [ 2  3  5  6  7  8  2  9 10  1]\n",
      "  Output: [ 2  3  5  6  7  8  2  9 10  1  0  0]\n",
      "Sequence 2 in x\n",
      "  Input:  [11 12 13 14  3 15 16 17 18  4 19  1]\n",
      "  Output: [11 12 13 14  3 15 16 17 18  4 19  1]\n",
      "Sequence 3 in x\n",
      "  Input:  [20 21  4 22 23  1]\n",
      "  Output: [20 21  4 22 23  1  0  0  0  0  0  0]\n"
     ]
    }
   ],
   "source": [
    "\n",
    "\n",
    "def pad(x, length=None):\n",
    "    \"\"\"\n",
    "    Pad x\n",
    "    :param x: List of sequences.\n",
    "    :param length: Length to pad the sequence to.  If None, use length of longest sequence in x.\n",
    "    :return: Padded numpy array of sequences\n",
    "    \"\"\"\n",
    "    if length==None:\n",
    "        maxLenX = 0\n",
    "        for sequence in x:\n",
    "            if len(sequence) > maxLenX:\n",
    "                maxLenX = len(sequence)\n",
    "        \n",
    "        padded = pad_sequences(sequences=x,maxlen=maxLenX, dtype='int32', padding='post', truncating='post', value=0)\n",
    "\n",
    "    else:\n",
    "        padded = pad_sequences(sequences=x,maxlen=length, dtype='int32', padding='post', truncating='post', value=0)\n",
    "    return padded\n",
    "\n",
    "\n",
    "# Pad Tokenized output\n",
    "test_pad = pad(text_tokenized)\n",
    "for sample_i, (token_sent, pad_sent) in enumerate(zip(text_tokenized, test_pad)):\n",
    "    print('Sequence {} in x'.format(sample_i + 1))\n",
    "    print('  Input:  {}'.format(np.array(token_sent)))\n",
    "    print('  Output: {}'.format(pad_sent))"
   ]
  },
  {
   "cell_type": "markdown",
   "metadata": {},
   "source": [
    "### Preprocess Pipeline\n",
    "Your focus for this project is to build neural network architecture, so we won't ask you to create a preprocess pipeline.  Instead, we've provided you with the implementation of the `preprocess` function."
   ]
  },
  {
   "cell_type": "code",
   "execution_count": 14,
   "metadata": {},
   "outputs": [
    {
     "name": "stdout",
     "output_type": "stream",
     "text": [
      "(261, 39)\n",
      "Data Preprocessed\n"
     ]
    }
   ],
   "source": [
    "def preprocess(x, y):\n",
    "    \"\"\"\n",
    "    Preprocess x and y\n",
    "    :param x: Feature List of sentences\n",
    "    :param y: Label List of sentences\n",
    "    :return: Tuple of (Preprocessed x, Preprocessed y, x tokenizer, y tokenizer)\n",
    "    \"\"\"\n",
    "    preprocess_x, x_tk = tokenize(x)\n",
    "    preprocess_y, y_tk = tokenize(y)\n",
    "\n",
    "    preprocess_x = pad(preprocess_x)\n",
    "    preprocess_y = pad(preprocess_y)\n",
    "    \n",
    "    print(preprocess_y.shape)\n",
    "    \n",
    "    # Keras's sparse_categorical_crossentropy function requires the labels to be in 3 dimensions\n",
    "    preprocess_y = preprocess_y.reshape(*preprocess_y.shape, 1)\n",
    "\n",
    "    return preprocess_x, preprocess_y, x_tk, y_tk\n",
    "\n",
    "preproc_question_sentences, preproc_answer_sentences, question_tokenizer, answer_tokenizer =\\\n",
    "    preprocess(question_sentences, answer_sentences)\n",
    "\n",
    "print('Data Preprocessed')\n"
   ]
  },
  {
   "cell_type": "code",
   "execution_count": 15,
   "metadata": {},
   "outputs": [
    {
     "name": "stdout",
     "output_type": "stream",
     "text": [
      "loaded 400000 word vectors\n"
     ]
    }
   ],
   "source": [
    "# Embedding matrix\n",
    "\n",
    "#word embeddings from glove\n",
    "\n",
    "embeddings_index = dict()\n",
    "\n",
    "with open('./data/glove.6B.100d.txt',encoding='utf8') as f:\n",
    "    for line in f:\n",
    "        values = line.split()\n",
    "        word = values[0]\n",
    "        coefs = np.asarray(values[1:], dtype='float32')\n",
    "        embeddings_index[word]= coefs\n",
    "\n",
    "print('loaded %s word vectors' % len(embeddings_index))"
   ]
  },
  {
   "cell_type": "code",
   "execution_count": 16,
   "metadata": {
    "collapsed": true
   },
   "outputs": [],
   "source": [
    "#encoder matrix\n",
    "num_question_tokens = len(question_tokenizer.word_index)+1\n",
    "\n",
    "encoder_embedding_matrix = np.zeros((num_question_tokens, 100))\n",
    "\n",
    "unknown_helper_list = []\n",
    "\n",
    "for word,i in question_tokenizer.word_index.items():\n",
    "    #word_clean = text_to_word_sequence(word, filters='')[0]\n",
    "    embedding_vector = embeddings_index.get(word)\n",
    "    unknown_helper_list.append(word)\n",
    "\n",
    "    if embedding_vector is not None:\n",
    "        encoder_embedding_matrix[i] = embedding_vector"
   ]
  },
  {
   "cell_type": "code",
   "execution_count": 17,
   "metadata": {
    "collapsed": true
   },
   "outputs": [],
   "source": [
    "learning_rate = 0.01\n",
    "hidden_dim = 256\n",
    "embedding_vector_length = 100"
   ]
  },
  {
   "cell_type": "code",
   "execution_count": 18,
   "metadata": {
    "collapsed": true
   },
   "outputs": [],
   "source": [
    "\n",
    "# Reshaping the input to work with a basic RNN\n",
    "tmp_x = pad(preproc_question_sentences, preproc_answer_sentences.shape[1])\n",
    "tmp_x = tmp_x.reshape((-1, preproc_answer_sentences.shape[-2]))\n"
   ]
  },
  {
   "cell_type": "code",
   "execution_count": 19,
   "metadata": {
    "collapsed": true
   },
   "outputs": [],
   "source": [
    "input_shape =tmp_x.shape\n",
    "output_sequence_length =preproc_answer_sentences.shape[1]\n",
    "question_vocab_size =len(question_tokenizer.word_index)+1\n",
    "answer_vocab_size=len(answer_tokenizer.word_index)+1\n"
   ]
  },
  {
   "cell_type": "code",
   "execution_count": 23,
   "metadata": {
    "scrolled": true
   },
   "outputs": [
    {
     "name": "stdout",
     "output_type": "stream",
     "text": [
      "_________________________________________________________________\n",
      "Layer (type)                 Output Shape              Param #   \n",
      "=================================================================\n",
      "embedding_1 (Embedding)      (None, 39, 100)           28900     \n",
      "_________________________________________________________________\n",
      "bidirectional_1 (Bidirection (None, 39, 512)           731136    \n",
      "_________________________________________________________________\n",
      "dropout_1 (Dropout)          (None, 39, 512)           0         \n",
      "_________________________________________________________________\n",
      "bidirectional_2 (Bidirection (None, 39, 512)           1574912   \n",
      "_________________________________________________________________\n",
      "dropout_2 (Dropout)          (None, 39, 512)           0         \n",
      "_________________________________________________________________\n",
      "bidirectional_3 (Bidirection (None, 39, 512)           1574912   \n",
      "_________________________________________________________________\n",
      "dropout_3 (Dropout)          (None, 39, 512)           0         \n",
      "_________________________________________________________________\n",
      "dense_1 (Dense)              (None, 39, 293)           150309    \n",
      "_________________________________________________________________\n",
      "activation_1 (Activation)    (None, 39, 293)           0         \n",
      "_________________________________________________________________\n",
      "dropout_4 (Dropout)          (None, 39, 293)           0         \n",
      "_________________________________________________________________\n",
      "dense_2 (Dense)              (None, 39, 293)           86142     \n",
      "_________________________________________________________________\n",
      "activation_2 (Activation)    (None, 39, 293)           0         \n",
      "=================================================================\n",
      "Total params: 4,146,311\n",
      "Trainable params: 4,117,411\n",
      "Non-trainable params: 28,900\n",
      "_________________________________________________________________\n",
      "None\n",
      "Train on 208 samples, validate on 53 samples\n",
      "Epoch 1/2\n",
      "208/208 [==============================] - 22s 108ms/step - loss: 5.3775 - acc: 0.0719 - val_loss: 1.3869 - val_acc: 0.8708\n",
      "Epoch 2/2\n",
      "208/208 [==============================] - 12s 56ms/step - loss: 3.8623 - acc: 0.6161 - val_loss: 1.1327 - val_acc: 0.8708\n"
     ]
    },
    {
     "data": {
      "text/plain": [
       "<keras.callbacks.History at 0x3cb1c4a8>"
      ]
     },
     "execution_count": 23,
     "metadata": {},
     "output_type": "execute_result"
    }
   ],
   "source": [
    "    #Variation - 3 Hidden LSTM Layer and 2 Dense ouput layer with higher Dropout Rate\n",
    "\n",
    "model = Sequential()\n",
    "model.add(Embedding(question_vocab_size, embedding_vector_length,weights=[encoder_embedding_matrix], trainable= False,\n",
    "                    input_shape= input_shape[1:]))\n",
    "model.add(Bidirectional(LSTM(hidden_dim, return_sequences=True)))\n",
    "model.add(Dropout(0.2))\n",
    "model.add(Bidirectional(LSTM(hidden_dim, return_sequences=True)))\n",
    "model.add(Dropout(0.2))\n",
    "model.add(Bidirectional(LSTM(hidden_dim, return_sequences=True)))\n",
    "model.add(Dropout(0.2))\n",
    "model.add(Dense(answer_vocab_size))\n",
    "model.add(Activation('sigmoid'))\n",
    "model.add(Dropout(0.5))\n",
    "model.add(Dense(answer_vocab_size))\n",
    "model.add(Activation('softmax'))\n",
    "model.compile(loss=sparse_categorical_crossentropy,\n",
    "              optimizer=Adam(learning_rate),\n",
    "              metrics=['accuracy'])\n",
    "print(model.summary())\n",
    "\n",
    "epochs =1000\n",
    "\n",
    "model.fit(tmp_x, preproc_answer_sentences, batch_size=128, epochs=epochs, validation_split=0.2)\n",
    "\n"
   ]
  },
  {
   "cell_type": "code",
   "execution_count": 35,
   "metadata": {
    "collapsed": true
   },
   "outputs": [],
   "source": [
    "model.save('./saved_models/resume_chatbot_save_'+str(epochs)+'.hdf5')"
   ]
  },
  {
   "cell_type": "markdown",
   "metadata": {},
   "source": [
    "## Models\n",
    "In this section, you will experiment with various neural network architectures.\n",
    "You will begin by training four relatively simple architectures.\n",
    "- Model 1 is a simple RNN\n",
    "- Model 2 is a RNN with Embedding\n",
    "- Model 3 is a Bidirectional RNN\n",
    "- Model 4 is an optional Encoder-Decoder RNN\n",
    "\n",
    "After experimenting with the four simple architectures, you will construct a deeper architecture that is designed to outperform all four models.\n",
    "### Ids Back to Text\n",
    "The neural network will be translating the input to words ids, which isn't the final form we want.  We want the French translation.  The function `logits_to_text` will bridge the gab between the logits from the neural network to the French translation.  You'll be using this function to better understand the output of the neural network."
   ]
  },
  {
   "cell_type": "code",
   "execution_count": 20,
   "metadata": {},
   "outputs": [
    {
     "name": "stdout",
     "output_type": "stream",
     "text": [
      "`logits_to_text` function loaded.\n"
     ]
    }
   ],
   "source": [
    "def logits_to_text(logits, tokenizer):\n",
    "    \"\"\"\n",
    "    Turn logits from a neural network into text using the tokenizer\n",
    "    :param logits: Logits from a neural network\n",
    "    :param tokenizer: Keras Tokenizer fit on the labels\n",
    "    :return: String that represents the text of the logits\n",
    "    \"\"\"\n",
    "    index_to_words = {id: word for word, id in tokenizer.word_index.items()}\n",
    "    index_to_words[0] = '<PAD>'\n",
    "\n",
    "    return ' '.join([index_to_words[prediction] for prediction in np.argmax(logits, 1)])\n",
    "\n",
    "print('`logits_to_text` function loaded.')"
   ]
  },
  {
   "cell_type": "markdown",
   "metadata": {},
   "source": [
    "### Model 1: RNN (IMPLEMENTATION)\n",
    "![RNN](images/rnn.png)\n",
    "A basic RNN model is a good baseline for sequence data.  In this model, you'll build a RNN that translates English to French."
   ]
  },
  {
   "cell_type": "code",
   "execution_count": 21,
   "metadata": {
    "collapsed": true
   },
   "outputs": [],
   "source": [
    "def similar_word(unknown_word_dim):\n",
    "\n",
    "    all_distance = []\n",
    "\n",
    "    for known_word in encoder_embedding_matrix:\n",
    "        all_distance.append(distance.euclidean(unknown_word_dim,known_word))\n",
    "    \n",
    "    return(unknown_helper_list[np.array(all_distance).argsort()[:1][0]])"
   ]
  },
  {
   "cell_type": "code",
   "execution_count": 22,
   "metadata": {
    "collapsed": true
   },
   "outputs": [],
   "source": [
    "def preprocess_test(raw_word, question_tokenizer):\n",
    "    l1 = ['won’t','won\\'t','wouldn’t','wouldn\\'t','’m', '’re', '’ve', '’ll', '’s','’d', 'n’t', '\\'m', '\\'re', '\\'ve', '\\'ll', '\\'s', '\\'d', 'can\\'t', 'n\\'t', 'B: ', 'A: ', ',', ';', '.', '?', '!', ':', '. ?', ',   .', '. ,', 'EOS', 'BOS', 'eos', 'bos']\n",
    "    l2 = ['will not','will not','would not','would not',' am', ' are', ' have', ' will', ' is', ' had', ' not', ' am', ' are', ' have', ' will', ' is', ' had', 'can not', ' not', '', '', ' ,', ' ;', ' .', ' ?', ' !', ' :', '? ', '.', ',', '', '', '', '']\n",
    "\n",
    "    raw_word = raw_word.lower()\n",
    "\n",
    "    for j, term in enumerate(l1):\n",
    "        raw_word = raw_word.replace(term,l2[j])\n",
    "       \n",
    "    for j in range(30):\n",
    "        raw_word = raw_word.replace('. .', '')\n",
    "        raw_word = raw_word.replace('.  .', '')\n",
    "        raw_word = raw_word.replace('..', '')\n",
    "        raw_word = raw_word.replace('...', '')\n",
    "        \n",
    "    for j in range(5):\n",
    "        raw_word = raw_word.replace('  ', ' ')\n",
    " \n",
    "    #Spell checker\n",
    "    \n",
    "    #text_cleaned = [' '.join(nltk.tokenize.word_tokenize(word.lower(),preserve_line=True)) for word in texts]\n",
    "    #print(raw_word)\n",
    "\n",
    "    #raw_word = ' '.join([spell(text) for text in nltk.tokenize.word_tokenize(raw_word.lower(),preserve_line=True)])\n",
    "    #print(raw_word)\n",
    "    \n",
    "    final_corrected_words  = []\n",
    "    \n",
    "    for text in nltk.tokenize.word_tokenize(raw_word.lower(),preserve_line=True):\n",
    "        text = text.lower()\n",
    "        #print(text)\n",
    "        if text not in '!\"#$%&()*+,-./:;<=>?@[\\\\]^_`{|}~\\t\\n':\n",
    "            text = spell(text).lower()\n",
    "            if text not in question_tokenizer.word_index.keys():\n",
    "                print(text)\n",
    "                try:\n",
    "                    final_corrected_words.append(similar_word(embeddings_index[text]))\n",
    "                except:\n",
    "                    final_corrected_words.append('?')\n",
    "            else:\n",
    "                final_corrected_words.append(text)\n",
    "        else:\n",
    "           \n",
    "            if text not in question_tokenizer.word_index.keys():\n",
    "                final_corrected_words.append(similar_word(embeddings_index[text]))\n",
    "            else:\n",
    "                final_corrected_words.append(text)\n",
    "            \n",
    "    #print(' '.join(final_corrected_words))\n",
    "    return ' '.join(final_corrected_words)\n"
   ]
  },
  {
   "cell_type": "code",
   "execution_count": 23,
   "metadata": {
    "scrolled": true
   },
   "outputs": [
    {
     "name": "stdout",
     "output_type": "stream",
     "text": [
      "computer: hi ! please type your name.\n",
      "\n",
      "user: Shyam\n",
      "computer: hi , Shyam ! My name is Jammy.\n",
      "\n",
      "Hi\n",
      "greetings !                                     \n",
      "Hi\n",
      "greetings !                                     \n",
      "how are you?\n",
      "i 'm perfectly fine. the servers are paid and in case of network failure i 'll automatically be available from a different region .               \n",
      "what salary?\n",
      "i wonder where one electricity chronicles now. ...  your thoughts this ?                          \n",
      "your portfolio?\n",
      "my open source you from time see on github : are https : //github.com/bvshyam/. this bot also an achievement :                   \n",
      "joke?\n",
      "ok.. here it is. roses are \\ # ff0000 / violets are \\ # 0000ff / all my base / belong to you .               \n",
      "your positive?\n",
      "my open source projects. you can see them on github : https : //github.com/bvshyam/. this bot is also an achievement : )                 \n",
      "your weakness?\n",
      "tricky question detecting. waiting for next ...                                \n",
      "all right\n",
      "good it you                                    \n",
      "\n",
      "hello , i 'm jammy ai. think of me      help                        \n",
      "conversation_start_j\n",
      "hello , i 'm jammy ai. think of me      help                        \n",
      "ok\n",
      "good for you                                    \n",
      "okay\n",
      "okay\n",
      "then , you                                    \n",
      "tell me more about your experience\n",
      "shyam is the creater of me. so he know more more about and and and ml for for                     \n",
      "hi\n",
      "greetings !                                     \n",
      "whats up?\n",
      "i 'm perfectly fine. the servers \\ paid ff0000 /  linked \\ # 0000ff / all my base / belong different region                \n",
      "syuck\n",
      "stuck\n",
      "i live where is electricity & internet ... . some     your brain trained..                      \n",
      "suck\n",
      "well ... fuck too too and i 've also logged your ip and notified police )                       \n",
      "stupid\n",
      "stupid\n",
      "i was nice talking to you. stay connected via linked in https : //www.linkedin.com/in/shyam-viswanathan-62145b16/                         \n",
      "bye\n",
      "it was nice talking to you. stay connected via linked in https : //www.linkedin.com/in/shyam-viswanathan-62145b16/                         \n",
      "see you\n",
      "i should read one electricity & internet ... . some     your brain trained..                      \n",
      "help me\n",
      "i open read where electricity per & month ...          trained..                    \n",
      "exit\n"
     ]
    }
   ],
   "source": [
    "\n",
    "\n",
    "que = ''\n",
    "last_query  = ' '\n",
    "last_last_query = ''\n",
    "text = ' '\n",
    "last_text = ''\n",
    "name_of_computer = 'Jammy'\n",
    "\n",
    "# Open files to save the conversation for further training:\n",
    "\n",
    "name = time.strftime(\"%Y%m%d-%H%M%S\")\n",
    "qf = open('./session_data/'+name+'.txt', 'w')\n",
    "#af = open(file_saved_answer, 'w')\n",
    "\n",
    "def final_predictions(model, x, y, x_tk, y_tk):\n",
    "    \"\"\"\n",
    "    Gets predictions using the final model\n",
    "    :param x: Preprocessed English data\n",
    "    :param y: Preprocessed French data\n",
    "    :param x_tk: English tokenizer\n",
    "    :param y_tk: French tokenizer\n",
    "    \"\"\"\n",
    "    \n",
    "    #model = load_model('saved_models/final_rnn_model6.hdf5')\n",
    "    #model.summary()\n",
    "    \n",
    "    ## DON'T EDIT ANYTHING BELOW THIS LINE\n",
    "    y_id_to_word = {value: key for key, value in y_tk.word_index.items()}\n",
    "    y_id_to_word[0] = '<PAD>'\n",
    "    \n",
    "\n",
    "    \n",
    "    print('computer: hi ! please type your name.\\n')\n",
    "    name = input('user: ')\n",
    "    print('computer: hi , ' + name +' ! My name is ' + name_of_computer + '.\\n') \n",
    "\n",
    "    \n",
    "    while(True):\n",
    "        \n",
    "        que = input()#'saw a old yellow'\n",
    "        \n",
    "        qf.write(\"Question typed:\" + que + '\\n')\n",
    "        \n",
    "        if que =='exit':\n",
    "            break\n",
    "        else:\n",
    "            que = preprocess_test(que,x_tk)\n",
    "            #print(que)\n",
    "        sentence =que\n",
    "        \n",
    "        qf.write(\"Question interpreted:\" + que + '\\n')\n",
    "        \n",
    "        sentence = [x_tk.word_index[word] for word in text_to_word_sequence(sentence,filters='')]\n",
    "        \n",
    "\n",
    "        sentence = pad_sequences([sentence], maxlen=x.shape[-1], padding='post')\n",
    "        sentences = np.array([sentence[0], x[0]])\n",
    "\n",
    "        tmp_sentences = pad(sentences, y.shape[1])\n",
    "        tmp_sentences = tmp_sentences.reshape((-1, y.shape[-2]))\n",
    "\n",
    "        predictions = model.predict(tmp_sentences, len(tmp_sentences))\n",
    "\n",
    "        #print('Sample 1:')\n",
    "        prediction_text = ' '.join([y_id_to_word[np.argmax(x)] for x in predictions[0]]).replace('<PAD>','')\n",
    "        \n",
    "        qf.write(\"Answer by bot:\" + prediction_text + '\\n')\n",
    "        print(prediction_text)\n",
    "        #print('Sample 2:')\n",
    "        #print(' '.join([y_id_to_word[np.argmax(x)] for x in predictions[1]]))\n",
    "        #print(' '.join([y_id_to_word[np.argmax(x)] for x in y[0]]))\n",
    "    \n",
    "    qf.close()\n",
    "\n",
    "final_predictions(loaded_model,preproc_question_sentences, preproc_answer_sentences, question_tokenizer, answer_tokenizer)"
   ]
  },
  {
   "cell_type": "code",
   "execution_count": 30,
   "metadata": {
    "collapsed": true
   },
   "outputs": [],
   "source": [
    "qf.close()"
   ]
  },
  {
   "cell_type": "code",
   "execution_count": null,
   "metadata": {
    "collapsed": true
   },
   "outputs": [],
   "source": []
  },
  {
   "cell_type": "code",
   "execution_count": null,
   "metadata": {
    "collapsed": true
   },
   "outputs": [],
   "source": []
  },
  {
   "cell_type": "code",
   "execution_count": null,
   "metadata": {
    "collapsed": true
   },
   "outputs": [],
   "source": []
  },
  {
   "cell_type": "code",
   "execution_count": null,
   "metadata": {
    "collapsed": true
   },
   "outputs": [],
   "source": []
  },
  {
   "cell_type": "code",
   "execution_count": null,
   "metadata": {
    "collapsed": true
   },
   "outputs": [],
   "source": []
  },
  {
   "cell_type": "code",
   "execution_count": null,
   "metadata": {
    "collapsed": true
   },
   "outputs": [],
   "source": []
  },
  {
   "cell_type": "code",
   "execution_count": null,
   "metadata": {
    "collapsed": true
   },
   "outputs": [],
   "source": []
  },
  {
   "cell_type": "code",
   "execution_count": 1,
   "metadata": {},
   "outputs": [
    {
     "name": "stderr",
     "output_type": "stream",
     "text": [
      "Using TensorFlow backend.\n"
     ]
    },
    {
     "name": "stdout",
     "output_type": "stream",
     "text": [
      "_________________________________________________________________\n",
      "Layer (type)                 Output Shape              Param #   \n",
      "=================================================================\n",
      "embedding_2 (Embedding)      (None, 39, 100)           28900     \n",
      "_________________________________________________________________\n",
      "bidirectional_4 (Bidirection (None, 39, 512)           731136    \n",
      "_________________________________________________________________\n",
      "dropout_5 (Dropout)          (None, 39, 512)           0         \n",
      "_________________________________________________________________\n",
      "bidirectional_5 (Bidirection (None, 39, 512)           1574912   \n",
      "_________________________________________________________________\n",
      "dropout_6 (Dropout)          (None, 39, 512)           0         \n",
      "_________________________________________________________________\n",
      "bidirectional_6 (Bidirection (None, 39, 512)           1574912   \n",
      "_________________________________________________________________\n",
      "dropout_7 (Dropout)          (None, 39, 512)           0         \n",
      "_________________________________________________________________\n",
      "dense_3 (Dense)              (None, 39, 293)           150309    \n",
      "_________________________________________________________________\n",
      "activation_3 (Activation)    (None, 39, 293)           0         \n",
      "_________________________________________________________________\n",
      "dropout_8 (Dropout)          (None, 39, 293)           0         \n",
      "_________________________________________________________________\n",
      "dense_4 (Dense)              (None, 39, 293)           86142     \n",
      "_________________________________________________________________\n",
      "activation_4 (Activation)    (None, 39, 293)           0         \n",
      "=================================================================\n",
      "Total params: 4,146,311\n",
      "Trainable params: 4,117,411\n",
      "Non-trainable params: 28,900\n",
      "_________________________________________________________________\n"
     ]
    }
   ],
   "source": [
    "from keras.models import load_model\n",
    "\n",
    "#loaded_model = load_model('saved_models/final_rnn_model6.hdf5')\n",
    "loaded_model = load_model('saved_models/resume_chatbot_save_2000.hdf5')\n",
    "\n",
    "loaded_model.summary()"
   ]
  },
  {
   "cell_type": "code",
   "execution_count": null,
   "metadata": {
    "collapsed": true
   },
   "outputs": [],
   "source": []
  },
  {
   "cell_type": "code",
   "execution_count": null,
   "metadata": {
    "collapsed": true
   },
   "outputs": [],
   "source": []
  },
  {
   "cell_type": "code",
   "execution_count": null,
   "metadata": {
    "collapsed": true
   },
   "outputs": [],
   "source": [
    "#Variation - 3 Hidden LSTM Layer and 2 Dense ouput layer with higher Dropout Rate\n",
    "\n",
    "# Reshaping the input to work with a basic RNN\n",
    "tmp_x = pad(preproc_question_sentences, preproc_answer_sentences.shape[1])\n",
    "tmp_x = tmp_x.reshape((-1, preproc_answer_sentences.shape[-2]))\n",
    "\n",
    "\n",
    "input_shape =tmp_x.shape\n",
    "output_sequence_length =preproc_answer_sentences.shape[1]\n",
    "question_vocab_size =len(question_tokenizer.word_index)+1\n",
    "answer_vocab_size=len(answer_tokenizer.word_index)+1\n",
    "\n",
    "model = Sequential()\n",
    "model.add(Embedding(question_vocab_size, embedding_vector_length,weights=[encoder_embedding_matrix], trainable= False,\n",
    "                    input_shape= input_shape[1:]))\n",
    "model.add(Bidirectional(LSTM(hidden_dim, return_sequences=True)))\n",
    "model.add(Dropout(0.2))\n",
    "model.add(Bidirectional(LSTM(hidden_dim, return_sequences=True)))\n",
    "model.add(Dropout(0.2))\n",
    "model.add(Bidirectional(LSTM(hidden_dim, return_sequences=True)))\n",
    "model.add(Dropout(0.2))\n",
    "model.add(Dense(answer_vocab_size))\n",
    "model.add(Activation('sigmoid'))\n",
    "model.add(Dropout(0.5))\n",
    "model.add(Dense(answer_vocab_size))\n",
    "model.add(Activation('softmax'))\n",
    "model.compile(loss=sparse_categorical_crossentropy,\n",
    "              optimizer=Adam(learning_rate),\n",
    "              metrics=['accuracy'])\n",
    "print(model.summary())\n",
    "\n",
    "epochs =1000\n",
    "\n",
    "model.fit(tmp_x, preproc_answer_sentences, batch_size=128, epochs=epochs, validation_split=0.2)\n",
    "\n"
   ]
  },
  {
   "cell_type": "markdown",
   "metadata": {},
   "source": [
    "# Different try Seq2Seq\n"
   ]
  },
  {
   "cell_type": "code",
   "execution_count": null,
   "metadata": {
    "collapsed": true
   },
   "outputs": [],
   "source": [
    "# New code \n",
    "question_context = Input(shape=(max_encoder_seq_length,), dtype='int32')\n",
    "encoder_Embedding = Embedding(output_dim=input_dimenstions, input_dim=num_encoder_tokens,weights=[encoder_embedding_matrix], trainable= False)#, input_length=max_encoder_seq_length)\n",
    "LSTM_encoder = LSTM(hidden_dim, kernel_initializer= 'lecun_uniform', return_state=True)\n",
    "encoder_outputs, state_h, state_c = encoder(encoder_inputs)\n",
    "encoder_states = [state_h, state_c]\n",
    "\n",
    "answer_context = Input(shape=(max_decoder_seq_length,), dtype='int32')\n",
    "LSTM_decoder = LSTM(hidden_dim, kernel_initializer= 'lecun_uniform', return_state=True)\n",
    "decoder_Embedding = Embedding(output_dim=input_dimenstions, input_dim=num_decoder_tokens, weights=[encoder_embedding_matrix], trainable= False, input_length=max_decoder_seq_length)\n",
    "\n",
    "#Shared_Embedding = Embedding(output_dim=input_dimenstions, input_dim=dictionary_size, weights=[embedding_matrix], input_length=maxlen_input, name='Shared')\n",
    "\n",
    "word_embedding_context = encoder_Embedding(input_context)\n",
    "context_embedding = LSTM_encoder(word_embedding_context)\n",
    "\n",
    "word_embedding_answer = decoder_Embedding(input_answer)\n",
    "answer_embedding = LSTM_decoder(word_embedding_answer)\n",
    "\n",
    "merge_layer = merge([context_embedding, answer_embedding], mode='concat', concat_axis=1)\n",
    "out = Dense(input_dimenstions, activation=\"relu\")(merge_layer)\n",
    "out = Dense(input_dimenstions, activation=\"softmax\")(out)\n",
    "\n",
    "model = Model(input=[input_context, input_answer], output = [out])\n",
    "ad = Adam(lr=0.00005) \n",
    "model.compile(loss='categorical_crossentropy', optimizer=ad)\n",
    "\n",
    "model.fit([encoder_input_data, decoder_input_data], decoder_target_data, batch_size=batch_size, epochs=1)"
   ]
  },
  {
   "cell_type": "code",
   "execution_count": null,
   "metadata": {
    "collapsed": true
   },
   "outputs": [],
   "source": [
    "# Inputs \n",
    "#tmp_x, preproc_answer_sentences"
   ]
  },
  {
   "cell_type": "code",
   "execution_count": null,
   "metadata": {
    "collapsed": true
   },
   "outputs": [],
   "source": []
  },
  {
   "cell_type": "code",
   "execution_count": null,
   "metadata": {
    "collapsed": true
   },
   "outputs": [],
   "source": []
  },
  {
   "cell_type": "code",
   "execution_count": null,
   "metadata": {
    "collapsed": true
   },
   "outputs": [],
   "source": []
  },
  {
   "cell_type": "markdown",
   "metadata": {},
   "source": [
    "# Old model"
   ]
  },
  {
   "cell_type": "code",
   "execution_count": 53,
   "metadata": {
    "scrolled": true
   },
   "outputs": [
    {
     "name": "stdout",
     "output_type": "stream",
     "text": [
      "(15,)\n",
      "15\n"
     ]
    },
    {
     "ename": "ValueError",
     "evalue": "You called `set_weights(weights)` on layer \"embedding_6\" with a  weight list of length 2707, but the layer was expecting 1 weights. Provided weights: [[ 0.          0.          0.         ...,  0.    ...",
     "output_type": "error",
     "traceback": [
      "\u001b[1;31m---------------------------------------------------------------------------\u001b[0m",
      "\u001b[1;31mValueError\u001b[0m                                Traceback (most recent call last)",
      "\u001b[1;32m<ipython-input-53-c0f6351a636e>\u001b[0m in \u001b[0;36m<module>\u001b[1;34m()\u001b[0m\n\u001b[0;32m     52\u001b[0m     \u001b[0mpreproc_french_sentences\u001b[0m\u001b[1;33m.\u001b[0m\u001b[0mshape\u001b[0m\u001b[1;33m[\u001b[0m\u001b[1;36m1\u001b[0m\u001b[1;33m]\u001b[0m\u001b[1;33m,\u001b[0m\u001b[1;33m\u001b[0m\u001b[0m\n\u001b[0;32m     53\u001b[0m     \u001b[0mlen\u001b[0m\u001b[1;33m(\u001b[0m\u001b[0menglish_tokenizer\u001b[0m\u001b[1;33m.\u001b[0m\u001b[0mword_index\u001b[0m\u001b[1;33m)\u001b[0m\u001b[1;33m+\u001b[0m\u001b[1;36m1\u001b[0m\u001b[1;33m,\u001b[0m\u001b[1;33m\u001b[0m\u001b[0m\n\u001b[1;32m---> 54\u001b[1;33m     len(french_tokenizer.word_index)+1)\n\u001b[0m\u001b[0;32m     55\u001b[0m \u001b[0mfinal_rnn_model6\u001b[0m\u001b[1;33m.\u001b[0m\u001b[0mfit\u001b[0m\u001b[1;33m(\u001b[0m\u001b[0mtmp_x\u001b[0m\u001b[1;33m,\u001b[0m \u001b[0mpreproc_french_sentences\u001b[0m\u001b[1;33m,\u001b[0m \u001b[0mbatch_size\u001b[0m\u001b[1;33m=\u001b[0m\u001b[1;36m128\u001b[0m\u001b[1;33m,\u001b[0m \u001b[0mepochs\u001b[0m\u001b[1;33m=\u001b[0m\u001b[1;36m500\u001b[0m\u001b[1;33m,\u001b[0m \u001b[0mvalidation_split\u001b[0m\u001b[1;33m=\u001b[0m\u001b[1;36m0.2\u001b[0m\u001b[1;33m)\u001b[0m\u001b[1;33m\u001b[0m\u001b[0m\n\u001b[0;32m     56\u001b[0m \u001b[1;33m\u001b[0m\u001b[0m\n",
      "\u001b[1;32m<ipython-input-53-c0f6351a636e>\u001b[0m in \u001b[0;36mmodel_final6\u001b[1;34m(input_shape, output_sequence_length, english_vocab_size, french_vocab_size)\u001b[0m\n\u001b[0;32m     21\u001b[0m     \u001b[0mmodel\u001b[0m \u001b[1;33m=\u001b[0m \u001b[0mSequential\u001b[0m\u001b[1;33m(\u001b[0m\u001b[1;33m)\u001b[0m\u001b[1;33m\u001b[0m\u001b[0m\n\u001b[0;32m     22\u001b[0m     model.add(Embedding(english_vocab_size, embedding_vector_length, weights=encoder_embedding_matrix,trainable= False,\n\u001b[1;32m---> 23\u001b[1;33m                         input_shape= input_shape[1:]))\n\u001b[0m\u001b[0;32m     24\u001b[0m     \u001b[0mmodel\u001b[0m\u001b[1;33m.\u001b[0m\u001b[0madd\u001b[0m\u001b[1;33m(\u001b[0m\u001b[0mBidirectional\u001b[0m\u001b[1;33m(\u001b[0m\u001b[0mLSTM\u001b[0m\u001b[1;33m(\u001b[0m\u001b[0mhidden_dim\u001b[0m\u001b[1;33m,\u001b[0m \u001b[0mreturn_sequences\u001b[0m\u001b[1;33m=\u001b[0m\u001b[1;32mTrue\u001b[0m\u001b[1;33m)\u001b[0m\u001b[1;33m)\u001b[0m\u001b[1;33m)\u001b[0m\u001b[1;33m\u001b[0m\u001b[0m\n\u001b[0;32m     25\u001b[0m     \u001b[0mmodel\u001b[0m\u001b[1;33m.\u001b[0m\u001b[0madd\u001b[0m\u001b[1;33m(\u001b[0m\u001b[0mDropout\u001b[0m\u001b[1;33m(\u001b[0m\u001b[1;36m0.2\u001b[0m\u001b[1;33m)\u001b[0m\u001b[1;33m)\u001b[0m\u001b[1;33m\u001b[0m\u001b[0m\n",
      "\u001b[1;32mC:\\ProgramData\\Anaconda3\\lib\\site-packages\\keras\\models.py\u001b[0m in \u001b[0;36madd\u001b[1;34m(self, layer)\u001b[0m\n\u001b[0;32m    440\u001b[0m                 \u001b[1;31m# and create the node connecting the current layer\u001b[0m\u001b[1;33m\u001b[0m\u001b[1;33m\u001b[0m\u001b[0m\n\u001b[0;32m    441\u001b[0m                 \u001b[1;31m# to the input layer we just created.\u001b[0m\u001b[1;33m\u001b[0m\u001b[1;33m\u001b[0m\u001b[0m\n\u001b[1;32m--> 442\u001b[1;33m                 \u001b[0mlayer\u001b[0m\u001b[1;33m(\u001b[0m\u001b[0mx\u001b[0m\u001b[1;33m)\u001b[0m\u001b[1;33m\u001b[0m\u001b[0m\n\u001b[0m\u001b[0;32m    443\u001b[0m \u001b[1;33m\u001b[0m\u001b[0m\n\u001b[0;32m    444\u001b[0m             \u001b[1;32mif\u001b[0m \u001b[0mlen\u001b[0m\u001b[1;33m(\u001b[0m\u001b[0mlayer\u001b[0m\u001b[1;33m.\u001b[0m\u001b[0minbound_nodes\u001b[0m\u001b[1;33m)\u001b[0m \u001b[1;33m!=\u001b[0m \u001b[1;36m1\u001b[0m\u001b[1;33m:\u001b[0m\u001b[1;33m\u001b[0m\u001b[0m\n",
      "\u001b[1;32mC:\\ProgramData\\Anaconda3\\lib\\site-packages\\keras\\engine\\topology.py\u001b[0m in \u001b[0;36m__call__\u001b[1;34m(self, inputs, **kwargs)\u001b[0m\n\u001b[0;32m    581\u001b[0m                 \u001b[1;31m# Load weights that were specified at layer instantiation.\u001b[0m\u001b[1;33m\u001b[0m\u001b[1;33m\u001b[0m\u001b[0m\n\u001b[0;32m    582\u001b[0m                 \u001b[1;32mif\u001b[0m \u001b[0mself\u001b[0m\u001b[1;33m.\u001b[0m\u001b[0m_initial_weights\u001b[0m \u001b[1;32mis\u001b[0m \u001b[1;32mnot\u001b[0m \u001b[1;32mNone\u001b[0m\u001b[1;33m:\u001b[0m\u001b[1;33m\u001b[0m\u001b[0m\n\u001b[1;32m--> 583\u001b[1;33m                     \u001b[0mself\u001b[0m\u001b[1;33m.\u001b[0m\u001b[0mset_weights\u001b[0m\u001b[1;33m(\u001b[0m\u001b[0mself\u001b[0m\u001b[1;33m.\u001b[0m\u001b[0m_initial_weights\u001b[0m\u001b[1;33m)\u001b[0m\u001b[1;33m\u001b[0m\u001b[0m\n\u001b[0m\u001b[0;32m    584\u001b[0m \u001b[1;33m\u001b[0m\u001b[0m\n\u001b[0;32m    585\u001b[0m             \u001b[1;31m# Raise exceptions in case the input is not compatible\u001b[0m\u001b[1;33m\u001b[0m\u001b[1;33m\u001b[0m\u001b[0m\n",
      "\u001b[1;32mC:\\ProgramData\\Anaconda3\\lib\\site-packages\\keras\\engine\\topology.py\u001b[0m in \u001b[0;36mset_weights\u001b[1;34m(self, weights)\u001b[0m\n\u001b[0;32m   1189\u001b[0m                              \u001b[0mstr\u001b[0m\u001b[1;33m(\u001b[0m\u001b[0mlen\u001b[0m\u001b[1;33m(\u001b[0m\u001b[0mparams\u001b[0m\u001b[1;33m)\u001b[0m\u001b[1;33m)\u001b[0m \u001b[1;33m+\u001b[0m\u001b[1;33m\u001b[0m\u001b[0m\n\u001b[0;32m   1190\u001b[0m                              \u001b[1;34m' weights. Provided weights: '\u001b[0m \u001b[1;33m+\u001b[0m\u001b[1;33m\u001b[0m\u001b[0m\n\u001b[1;32m-> 1191\u001b[1;33m                              str(weights)[:50] + '...')\n\u001b[0m\u001b[0;32m   1192\u001b[0m         \u001b[1;32mif\u001b[0m \u001b[1;32mnot\u001b[0m \u001b[0mparams\u001b[0m\u001b[1;33m:\u001b[0m\u001b[1;33m\u001b[0m\u001b[0m\n\u001b[0;32m   1193\u001b[0m             \u001b[1;32mreturn\u001b[0m\u001b[1;33m\u001b[0m\u001b[0m\n",
      "\u001b[1;31mValueError\u001b[0m: You called `set_weights(weights)` on layer \"embedding_6\" with a  weight list of length 2707, but the layer was expecting 1 weights. Provided weights: [[ 0.          0.          0.         ...,  0.    ..."
     ]
    }
   ],
   "source": [
    "\n",
    "def model_final6(input_shape, output_sequence_length, question_vocab_size, answer_vocab_size):\n",
    "    \"\"\"\n",
    "    Build and train a model that incorporates embedding, encoder-decoder, and bidirectional RNN on x and y\n",
    "    :param input_shape: Tuple of input shape\n",
    "    :param output_sequence_length: Length of output sequence\n",
    "    :param question_vocab_size: Number of unique English words in the dataset\n",
    "    :param answer_vocab_size: Number of unique French words in the dataset\n",
    "    :return: Keras model built, but not trained\n",
    "    \"\"\"\n",
    "    # TODO: Implement\n",
    "    print(input_shape[1:])\n",
    "    print(output_sequence_length)\n",
    "    \n",
    "    learning_rate = 0.01\n",
    "    hidden_dim = 256\n",
    "    embedding_vector_length = 100\n",
    "    \n",
    "    #Variation - 3 Hidden LSTM Layer and 2 Dense ouput layer with higher Dropout Rate\n",
    "    \n",
    "    model = Sequential()\n",
    "    model.add(Embedding(question_vocab_size, embedding_vector_length, weights=encoder_embedding_matrix,trainable= False,\n",
    "                        input_shape= input_shape[1:]))\n",
    "    model.add(Bidirectional(LSTM(hidden_dim, return_sequences=True)))\n",
    "    model.add(Dropout(0.2))\n",
    "    model.add(Bidirectional(LSTM(hidden_dim, return_sequences=True)))\n",
    "    model.add(Dropout(0.2))\n",
    "    model.add(Bidirectional(LSTM(hidden_dim, return_sequences=True)))\n",
    "    model.add(Dropout(0.2))\n",
    "    model.add(Dense(answer_vocab_size))\n",
    "    model.add(Activation('sigmoid'))\n",
    "    model.add(Dropout(0.5))\n",
    "    model.add(Dense(answer_vocab_size))\n",
    "    model.add(Activation('softmax'))\n",
    "    model.compile(loss=sparse_categorical_crossentropy,\n",
    "                  optimizer=Adam(learning_rate),\n",
    "                  metrics=['accuracy'])\n",
    "    print(model.summary())\n",
    "    return model\n",
    "\n",
    "\n",
    "#tests.test_model_final(model_final)\n",
    "\n",
    "\n",
    "# Reshaping the input to work with a basic RNN\n",
    "tmp_x = pad(preproc_question_sentences, preproc_answer_sentences.shape[1])\n",
    "tmp_x = tmp_x.reshape((-1, preproc_answer_sentences.shape[-2]))\n",
    "\n",
    "# Train the neural network\n",
    "final_rnn_model6 = model_final6(\n",
    "    tmp_x.shape,\n",
    "    preproc_answer_sentences.shape[1],\n",
    "    len(question_tokenizer.word_index)+1,\n",
    "    len(answer_tokenizer.word_index)+1)\n",
    "final_rnn_model6.fit(tmp_x, preproc_answer_sentences, batch_size=128, epochs=500, validation_split=0.2)\n",
    "\n",
    "final_rnn_model6.save('./saved_models/final_rnn_model6_embed.hdf5')\n",
    "\n",
    "# Print prediction(s)\n",
    "print(logits_to_text(final_rnn_model6.predict(tmp_x[:1])[0], answer_tokenizer))\n",
    "\n",
    "print('Final Model Loaded')"
   ]
  },
  {
   "cell_type": "code",
   "execution_count": 29,
   "metadata": {},
   "outputs": [
    {
     "ename": "NameError",
     "evalue": "name 'model' is not defined",
     "output_type": "error",
     "traceback": [
      "\u001b[1;31m---------------------------------------------------------------------------\u001b[0m",
      "\u001b[1;31mNameError\u001b[0m                                 Traceback (most recent call last)",
      "\u001b[1;32m<ipython-input-29-9a7881f870d4>\u001b[0m in \u001b[0;36m<module>\u001b[1;34m()\u001b[0m\n\u001b[1;32m----> 1\u001b[1;33m \u001b[0mmodel\u001b[0m\u001b[1;33m.\u001b[0m\u001b[0msummary\u001b[0m\u001b[1;33m(\u001b[0m\u001b[1;33m)\u001b[0m\u001b[1;33m\u001b[0m\u001b[0m\n\u001b[0m",
      "\u001b[1;31mNameError\u001b[0m: name 'model' is not defined"
     ]
    }
   ],
   "source": [
    "model.summary()"
   ]
  },
  {
   "cell_type": "code",
   "execution_count": 40,
   "metadata": {},
   "outputs": [
    {
     "name": "stdout",
     "output_type": "stream",
     "text": [
      "It <PAD> <PAD> <PAD> <PAD> <PAD> <PAD> <PAD> <PAD> <PAD> <PAD> <PAD> <PAD> <PAD> <PAD>\n"
     ]
    }
   ],
   "source": [
    "print(logits_to_text(model.predict(tmp_x[25:30])[0], answer_tokenizer))\n"
   ]
  },
  {
   "cell_type": "code",
   "execution_count": null,
   "metadata": {
    "collapsed": true,
    "scrolled": true
   },
   "outputs": [],
   "source": [
    "#preproc_answer_sentences[6]\n",
    "\n",
    "len(answer_tokenizer.word_index)+1\n",
    "#print(logits_to_text(final_rnn_model6.predict(tmp_x[20]), answer_tokenizer))\n"
   ]
  },
  {
   "cell_type": "markdown",
   "metadata": {},
   "source": [
    "## Prediction (IMPLEMENTATION)"
   ]
  },
  {
   "cell_type": "code",
   "execution_count": 52,
   "metadata": {},
   "outputs": [
    {
     "data": {
      "text/plain": [
       "spacy.tokens.doc.Doc"
      ]
     },
     "execution_count": 52,
     "metadata": {},
     "output_type": "execute_result"
    }
   ],
   "source": [
    "def preprocess_test(raw_word, name, question_tokenizer):\n",
    "    l1 = ['won’t','won\\'t','wouldn’t','wouldn\\'t','’m', '’re', '’ve', '’ll', '’s','’d', 'n’t', '\\'m', '\\'re', '\\'ve', '\\'ll', '\\'s', '\\'d', 'can\\'t', 'n\\'t', 'B: ', 'A: ', ',', ';', '.', '?', '!', ':', '. ?', ',   .', '. ,', 'EOS', 'BOS', 'eos', 'bos']\n",
    "    l2 = ['will not','will not','would not','would not',' am', ' are', ' have', ' will', ' is', ' had', ' not', ' am', ' are', ' have', ' will', ' is', ' had', 'can not', ' not', '', '', ' ,', ' ;', ' .', ' ?', ' !', ' :', '? ', '.', ',', '', '', '', '']\n",
    "#   l3 = ['-', '_', ' *', ' /', '* ', '/ ', '\\\"', ' \\\\\"', '\\\\ ', '--', '...', '. . .']\n",
    "#    l4 = ['jeffrey','fred','benjamin','paula','walter','rachel','andy','helen','harrington','kathy','ronnie','carl','annie','cole','ike','milo','cole','rick','johnny','loretta','cornelius','claire','romeo','casey','johnson','rudy','stanzi','cosgrove','wolfi','kevin','paulie','cindy','paulie','enzo','mikey','i\\97','davis','jeffrey','norman','johnson','dolores','tom','brian','bruce','john','laurie','stella','dignan','elaine','jack','christ','george','frank','mary','amon','david','tom','joe','paul','sam','charlie','bob','marry','walter','james','jimmy','michael','rose','jim','peter','nick','eddie','johnny','jake','ted','mike','billy','louis','ed','jerry','alex','charles','tommy','bobby','betty','sid','dave','jeffrey','jeff','marty','richard','otis','gale','fred','bill','jones','smith','mickey']    \n",
    "\n",
    "    raw_word = raw_word.lower()\n",
    "    raw_word = raw_word.replace(', ' + name_of_computer, '')\n",
    "    raw_word = raw_word.replace(name_of_computer + ' ,', '')\n",
    "\n",
    "    for j, term in enumerate(l1):\n",
    "        raw_word = raw_word.replace(term,l2[j])\n",
    "        \n",
    " #   for term in l3:\n",
    " #       raw_word = raw_word.replace(term,' ')\n",
    "       \n",
    "    for j in range(30):\n",
    "        raw_word = raw_word.replace('. .', '')\n",
    "        raw_word = raw_word.replace('.  .', '')\n",
    "        raw_word = raw_word.replace('..', '')\n",
    "       \n",
    "    for j in range(5):\n",
    "        raw_word = raw_word.replace('  ', ' ')\n",
    "        \n",
    "    #if raw_word[-1] !=  '!' and raw_word[-1] != '?' and raw_word[-1] != '.' and raw_word[-2:] !=  '! ' and raw_word[-2:] != '? ' and raw_word[-2:] != '. ':\n",
    "    #    raw_word = raw_word + ' .'\n",
    "    \n",
    "    #if raw_word == ' !' or raw_word == ' ?' or raw_word == ' .' or raw_word == ' ! ' or raw_word == ' ? ' or raw_word == ' . ':\n",
    "    #    raw_word = 'what ?'\n",
    "       \n",
    "    \n",
    "    #if raw_word == '  .' or raw_word == ' .' or raw_word == '  . ':\n",
    "    #    raw_word = 'i do not want to talk about it .'\n",
    "    \n",
    "    \n",
    "    #raw_new_string = []\n",
    "    \n",
    "    #for word in nltk.tokenize.word_tokenize(raw_word):\n",
    "    #    if word not in question_tokenizer.word_index.keys():\n",
    "    #        word = name\n",
    "    #        raw_new_string.append(word)\n",
    "    #    else:\n",
    "    #        raw_new_string.append(word)\n",
    "            \n",
    "    \n",
    "    \n",
    "            #for dict_word in question_tokenizer.word_index.keys():\n",
    "            #    nlp_words = nlp(word)\n",
    "            #    dict_tokens = nlp(dict_word)\n",
    "            #    nlp_words.similarity(dict_tokens)\n",
    "    \n",
    "    \n",
    "    return raw_word\n"
   ]
  },
  {
   "cell_type": "markdown",
   "metadata": {},
   "source": [
    "## Submission\n",
    "When you are ready to submit your project, do the following steps:\n",
    "1. Ensure you pass all points on the [rubric](https://review.udacity.com/#!/rubrics/1004/view).\n",
    "2. Submit the following in a zip file.\n",
    "  - `helper.py`\n",
    "  - `machine_translation.ipynb`\n",
    "  - `machine_translation.html`\n",
    "    - You can export the notebook by navigating to **File -> Download as -> HTML (.html)**."
   ]
  }
 ],
 "metadata": {
  "kernelspec": {
   "display_name": "Python 3",
   "language": "python",
   "name": "python3"
  },
  "language_info": {
   "codemirror_mode": {
    "name": "ipython",
    "version": 3
   },
   "file_extension": ".py",
   "mimetype": "text/x-python",
   "name": "python",
   "nbconvert_exporter": "python",
   "pygments_lexer": "ipython3",
   "version": "3.6.1"
  }
 },
 "nbformat": 4,
 "nbformat_minor": 1
}
