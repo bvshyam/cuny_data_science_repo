{
 "cells": [
  {
   "cell_type": "markdown",
   "metadata": {},
   "source": [
    "# Project 2: Bipartite Graphs and Projections\n",
    "By Shyam Balagurumurthy and Latif Masud"
   ]
  },
  {
   "cell_type": "markdown",
   "metadata": {},
   "source": [
    "# Introduction\n",
    "\n",
    "For this project, we chose to look at a dataset of flights airports and airline routes. The dataset was taken from [OpenFlights](https://openflights.org/data.html) containing airports, routes, and airline information. Using this dataset, we built out networkX bipartite graphs and performed graph projections."
   ]
  },
  {
   "cell_type": "markdown",
   "metadata": {},
   "source": [
    "## Loading the Dataset"
   ]
  },
  {
   "cell_type": "markdown",
   "metadata": {},
   "source": [
    "Below are the libraries we needed for the project. `networkx`, `matplotlib`, `geo`, and `operator` are all used for creating a bipartite graph, while `basemap` is used for map visualization. With these libraries we have created a bipartite graph using source and destination. "
   ]
  },
  {
   "cell_type": "code",
   "execution_count": 2,
   "metadata": {
    "collapsed": true
   },
   "outputs": [],
   "source": [
    "import networkx as nx\n",
    "import matplotlib.pyplot as plt\n",
    "\n",
    "from operator import itemgetter\n",
    "import geopy.distance as geo"
   ]
  },
  {
   "cell_type": "markdown",
   "metadata": {},
   "source": [
    "Original dataset contains source, destinations, airlines and lat/log. With these informations we have created a weighted graph by calculating the distance between two locations. After creating the dataset we have added the airlines as the edge attributes. So by adding these additional attributes, we can find the miniumum/maximum distance aiports and perform island filters based on the distance attributes. "
   ]
  },
  {
   "cell_type": "code",
   "execution_count": 6,
   "metadata": {
    "collapsed": true
   },
   "outputs": [],
   "source": [
    "def clean_str(line):\n",
    "    invalids = ['\"', '\\n']\n",
    "    for n in invalids:\n",
    "        line = line.replace(n, '')\n",
    "        \n",
    "    return line\n",
    "\n",
    "def extract_data(file_loc, props):\n",
    "    # Read in file\n",
    "    file_obj = open(file_loc, \"r\")\n",
    "    lines = file_obj.readlines()\n",
    "    file_obj.close()\n",
    "    \n",
    "\n",
    "    #Takes the lines that were read in, does a split to create an array, then zips\n",
    "    #with the props to create a 2d array, and then forms a dictionary from that 2d array,\n",
    "    #and returns a list of those dictionaries.\n",
    "    return list(map(lambda x: dict(zip(props, clean_str(x).split(\",\"))), lines))\n",
    "\n",
    "def show_graph(G):\n",
    "    color_map = {'airline': \"#117A65\",\n",
    "             'route': \"#E67E22\",\n",
    "             'source': \"#1aff1a\",\n",
    "             'destination': \"#ff0000\"  \n",
    "            }\n",
    "\n",
    "    nx.draw(G, node_color=[color_map[G.node[node]['node_type']] for node in G], with_labels=True)\n",
    "    plt.show()"
   ]
  },
  {
   "cell_type": "code",
   "execution_count": 7,
   "metadata": {
    "collapsed": true
   },
   "outputs": [],
   "source": [
    "airport_props = [\n",
    "        \"airport_id\",\n",
    "        \"name\",\n",
    "        \"city\",\n",
    "        \"country\",\n",
    "        \"iata\",\n",
    "        \"icao\",\n",
    "        \"lat\",\n",
    "        \"lon\",\n",
    "        \"altitude\",\n",
    "        \"timezone\",\n",
    "        \"dst\",\n",
    "        \"tz_database_time_zone\",\n",
    "        \"type\",\n",
    "        \"source\"\n",
    "]\n",
    "\n",
    "route_props = [\n",
    "        \"airline\",\n",
    "        \"airline_id\",\n",
    "        \"source_airport\",\n",
    "        \"source_airport_id\",\n",
    "        \"destination_airport\",\n",
    "        \"destination_airport_id\",\n",
    "        \"codeshare\",\n",
    "        \"stops\",\n",
    "        \"equipment\"\n",
    "        ]\n",
    "\n",
    "airlines_props = [\n",
    "    \"airline_id\",\n",
    "    \"name\",\n",
    "    \"alias\",\n",
    "    \"iata\",\n",
    "    \"icao\",\n",
    "    \"callsign\",\n",
    "    \"country\",\n",
    "    \"active\"\n",
    "]"
   ]
  },
  {
   "cell_type": "code",
   "execution_count": 8,
   "metadata": {},
   "outputs": [],
   "source": [
    "routes = extract_data(\"./data/routes.dat\", route_props)\n",
    "airlines = extract_data('./data/airlines.dat',airlines_props)\n",
    "airports = extract_data('./data/airports.dat',airport_props)"
   ]
  },
  {
   "cell_type": "markdown",
   "metadata": {},
   "source": [
    "## Bipartite Graph of Airlines and Routes\n",
    "\n",
    "For the first analysis, we are going to build a set of relationships between routes flown by air carriers in the United States, and the routes that they fly. This graph would be useful to find out which route is flown by which airlines or which airlines flies which routes:"
   ]
  },
  {
   "cell_type": "code",
   "execution_count": 9,
   "metadata": {
    "collapsed": true
   },
   "outputs": [],
   "source": [
    "G= nx.Graph()"
   ]
  },
  {
   "cell_type": "code",
   "execution_count": 10,
   "metadata": {
    "collapsed": true
   },
   "outputs": [],
   "source": [
    "#Transform list of airports into map of airports:\n",
    "airport_map = {}\n",
    "for airport in airports:\n",
    "    airport_map[airport['iata']] = airport"
   ]
  },
  {
   "cell_type": "code",
   "execution_count": 11,
   "metadata": {
    "collapsed": true
   },
   "outputs": [],
   "source": [
    "#Transform list of airlines into a map of jus US airline carriers\n",
    "us_carriers = {}\n",
    "for airline in airlines:\n",
    "    if (airline['country'] == 'United States'):\n",
    "        us_carriers[airline['iata']] = airline\n",
    "        G.add_node(airline['iata'], node_type='airline')"
   ]
  },
  {
   "cell_type": "code",
   "execution_count": 12,
   "metadata": {
    "collapsed": true
   },
   "outputs": [],
   "source": [
    "for route in routes:\n",
    "    if (route['airline'] in us_carriers) and \\\n",
    "       (route['source_airport'] in airport_map) and \\\n",
    "       (route['destination_airport'] in airport_map):\n",
    "        route_id = route['source_airport']+'->'+route['destination_airport']\n",
    "        G.add_node(route_id, node_type='route', info=route)\n",
    "        G.add_edge(route_id, route['airline'])\n",
    "        "
   ]
  },
  {
   "cell_type": "markdown",
   "metadata": {},
   "source": [
    "Now that we have the graph build out, lets look at a few examples. We'll start with finding all the airlines that fly from Los Angeles International (LAX) to John F. Kenney International (JFK). We see that with a small bit of code, we can find all the airlines that fly that route:"
   ]
  },
  {
   "cell_type": "code",
   "execution_count": 13,
   "metadata": {},
   "outputs": [
    {
     "data": {
      "text/plain": [
       "['American Airlines',\n",
       " 'Delta Air Lines',\n",
       " 'US Airways',\n",
       " 'JetBlue Airways',\n",
       " 'Virgin America',\n",
       " 'United Airlines']"
      ]
     },
     "execution_count": 13,
     "metadata": {},
     "output_type": "execute_result"
    }
   ],
   "source": [
    "[us_carriers[iata]['name'] for iata in list(G['LAX->JFK'])]"
   ]
  },
  {
   "cell_type": "markdown",
   "metadata": {},
   "source": [
    "We can perform the reverse as well where we can find all the routes flown by a particular airlines. In this example, we will look at all the routes flown by Allegiant Air, which has the IATA code of 'G4':"
   ]
  },
  {
   "cell_type": "code",
   "execution_count": 19,
   "metadata": {},
   "outputs": [
    {
     "data": {
      "text/plain": [
       "['ABE->MYR',\n",
       " 'ABE->PGD',\n",
       " 'ABE->PIE',\n",
       " 'ABE->SFB',\n",
       " 'ATW->AZA',\n",
       " 'ATW->LAS',\n",
       " 'ATW->SFB',\n",
       " 'AUS->LAS',\n",
       " 'AVL->FLL',\n",
       " 'AVL->PGD',\n",
       " 'AVL->PIE',\n",
       " 'AVL->SFB',\n",
       " 'AVP->SFB',\n",
       " 'AZA->ATW',\n",
       " 'AZA->BIL',\n",
       " 'AZA->BIS',\n",
       " 'AZA->BLI',\n",
       " 'AZA->BZN',\n",
       " 'AZA->CID',\n",
       " 'AZA->DLH']"
      ]
     },
     "execution_count": 19,
     "metadata": {},
     "output_type": "execute_result"
    }
   ],
   "source": [
    "list(G['G4'])[:20]"
   ]
  },
  {
   "cell_type": "markdown",
   "metadata": {},
   "source": [
    "We can also find the airline with the most routes, and the route with the most options:"
   ]
  },
  {
   "cell_type": "code",
   "execution_count": 14,
   "metadata": {
    "collapsed": true
   },
   "outputs": [],
   "source": [
    "def most_neighbors(G, node_type):\n",
    "    \"\"\"This function will search for the most number of neighbors using the node type\"\"\"\n",
    "    node_list = []\n",
    "    for n in G.nodes():\n",
    "        if G.node[n]['node_type'] == node_type:\n",
    "            node_list.append(n)\n",
    "            \n",
    "    largest_found = {\n",
    "        'num_of_neighbors': -1,\n",
    "        'key': \"\"\n",
    "    }\n",
    "    for node in node_list:\n",
    "        if len(G[node]) > largest_found['num_of_neighbors']:\n",
    "            largest_found = {'num_of_neighbors': len(G[node]), 'key': node}\n",
    "\n",
    "    return largest_found"
   ]
  },
  {
   "cell_type": "markdown",
   "metadata": {},
   "source": [
    "We see that American Airlines has the most routes of my any US carrier wtih 2354 routes."
   ]
  },
  {
   "cell_type": "code",
   "execution_count": 15,
   "metadata": {},
   "outputs": [
    {
     "data": {
      "text/plain": [
       "{'key': 'AA', 'num_of_neighbors': 2336}"
      ]
     },
     "execution_count": 15,
     "metadata": {},
     "output_type": "execute_result"
    }
   ],
   "source": [
    "most_neighbors(G, 'airline')"
   ]
  },
  {
   "cell_type": "markdown",
   "metadata": {},
   "source": [
    "And we see that the route with the most options is from Los Angeles to Las Vegas with nine flight options:"
   ]
  },
  {
   "cell_type": "code",
   "execution_count": 16,
   "metadata": {},
   "outputs": [
    {
     "data": {
      "text/plain": [
       "{'key': 'LAS->LAX', 'num_of_neighbors': 9}"
      ]
     },
     "execution_count": 16,
     "metadata": {},
     "output_type": "execute_result"
    }
   ],
   "source": [
    "most_options_route = most_neighbors(G, 'route')\n",
    "most_options_route"
   ]
  },
  {
   "cell_type": "markdown",
   "metadata": {},
   "source": [
    "We can access our bipartite graph again to find out what those airlines are:"
   ]
  },
  {
   "cell_type": "code",
   "execution_count": 23,
   "metadata": {},
   "outputs": [
    {
     "data": {
      "text/plain": [
       "['Boutique Air (Priv)',\n",
       " 'American Airlines',\n",
       " 'Delta Air Lines',\n",
       " 'AirTran Airways',\n",
       " 'Spirit Airlines',\n",
       " 'United Airlines',\n",
       " 'US Airways',\n",
       " 'Virgin America',\n",
       " 'Southwest Airlines']"
      ]
     },
     "execution_count": 23,
     "metadata": {},
     "output_type": "execute_result"
    }
   ],
   "source": [
    "[us_carriers[iata]['name'] for iata in list(G[most_options_route['key']])]"
   ]
  },
  {
   "cell_type": "markdown",
   "metadata": {},
   "source": [
    "## Bipartite of Weighted Routes\n",
    "\n",
    "For this part, we will calculate the distances for all the routes that US carriers fly."
   ]
  },
  {
   "cell_type": "code",
   "execution_count": 17,
   "metadata": {
    "collapsed": true
   },
   "outputs": [],
   "source": [
    "def filter_nodes_by_type(G, node_type):\n",
    "    node_list = []\n",
    "    for n in G.nodes():\n",
    "        if G.node[n]['node_type'] == node_type:\n",
    "            node_list.append(n)\n",
    "        \n",
    "    return node_list"
   ]
  },
  {
   "cell_type": "code",
   "execution_count": 19,
   "metadata": {},
   "outputs": [
    {
     "name": "stderr",
     "output_type": "stream",
     "text": [
      "C:\\Users\\latif\\Anaconda2\\lib\\site-packages\\networkx\\drawing\\nx_pylab.py:126: MatplotlibDeprecationWarning: pyplot.hold is deprecated.\n",
      "    Future behavior will be consistent with the long-time default:\n",
      "    plot commands add elements without first clearing the\n",
      "    Axes and/or Figure.\n",
      "  b = plt.ishold()\n",
      "C:\\Users\\latif\\Anaconda2\\lib\\site-packages\\networkx\\drawing\\nx_pylab.py:138: MatplotlibDeprecationWarning: pyplot.hold is deprecated.\n",
      "    Future behavior will be consistent with the long-time default:\n",
      "    plot commands add elements without first clearing the\n",
      "    Axes and/or Figure.\n",
      "  plt.hold(b)\n",
      "C:\\Users\\latif\\Anaconda2\\lib\\site-packages\\matplotlib\\__init__.py:917: UserWarning: axes.hold is deprecated. Please remove it from your matplotlibrc and/or style files.\n",
      "  warnings.warn(self.msg_depr_set % key)\n",
      "C:\\Users\\latif\\Anaconda2\\lib\\site-packages\\matplotlib\\rcsetup.py:152: UserWarning: axes.hold is deprecated, will be removed in 3.0\n",
      "  warnings.warn(\"axes.hold is deprecated, will be removed in 3.0\")\n"
     ]
    },
    {
     "data": {
      "image/png": "[encoded data removed]",
      "text/plain": [
       "<matplotlib.figure.Figure at 0x6136d30>"
      ]
     },
     "metadata": {},
     "output_type": "display_data"
    }
   ],
   "source": [
    "all_routes = filter_nodes_by_type(G, 'route')\n",
    "\n",
    "W = nx.Graph()\n",
    "for route in all_routes:\n",
    "    source_iata, dest_iata = route.split(\"->\", 1)\n",
    "    \n",
    "    #Calculate great circle distance between two airports:\n",
    "    #the try is in here because some airports do not exist in the datbase.\n",
    "\n",
    "    source_geo= (itemgetter('lat', 'lon')(airport_map[source_iata]))\n",
    "    dest_geo= (itemgetter('lat', 'lon')(airport_map[dest_iata]))\n",
    "\n",
    "    distance = geo.great_circle(source_geo, dest_geo).miles\n",
    "\n",
    "    #add them to the graph with weight:\n",
    "    W.add_node(source_iata, node_type='source')\n",
    "    W.add_node(dest_iata, node_type='destination')\n",
    "    W.add_edge(source_iata,dest_iata,weight=distance)\n",
    "\n",
    "    \n",
    "show_graph(W)"
   ]
  },
  {
   "cell_type": "markdown",
   "metadata": {},
   "source": [
    "We can now use this information to find out types of analytics such as shortest flight and longest flight flown by a carrier:"
   ]
  },
  {
   "cell_type": "code",
   "execution_count": 20,
   "metadata": {},
   "outputs": [],
   "source": [
    "sorted_by_distance = sorted(W.edges(data=True), key=lambda (source,target,data): data['weight'])"
   ]
  },
  {
   "cell_type": "code",
   "execution_count": 21,
   "metadata": {
    "collapsed": true
   },
   "outputs": [],
   "source": [
    "def get_route_info(flight):\n",
    "    iata = list(G[flight[1]+\"->\"+flight[0]])[0]\n",
    "    return {\"source_airport\": airport_map[flight[0]]['name'], \\\n",
    "           \"dest_airport\": airport_map[flight[1]]['name'], \\\n",
    "           \"airline\": us_carriers[iata]['name'],\n",
    "           \"distance\": flight[2]['weight']\n",
    "          }"
   ]
  },
  {
   "cell_type": "markdown",
   "metadata": {},
   "source": [
    "#### Shortest Flight\n",
    "We find that the shortest flight in the US, actually originates and terminates at the same airport:"
   ]
  },
  {
   "cell_type": "code",
   "execution_count": 22,
   "metadata": {},
   "outputs": [
    {
     "name": "stdout",
     "output_type": "stream",
     "text": [
      "{'dest_airport': 'Iskandar Airport', 'source_airport': 'Iskandar Airport', 'airline': 'Fly Illi', 'distance': 0.0}\n"
     ]
    }
   ],
   "source": [
    "print get_route_info(sorted_by_distance[0])"
   ]
  },
  {
   "cell_type": "markdown",
   "metadata": {},
   "source": [
    "To find the first flight that actually goes to a different destination than its source airprot, we look at the second shortest flight in the United States in terms of Great Circle distance is between the two airports below, with a distance of just 6.4 miles:"
   ]
  },
  {
   "cell_type": "code",
   "execution_count": 23,
   "metadata": {},
   "outputs": [
    {
     "name": "stdout",
     "output_type": "stream",
     "text": [
      "{'dest_airport': 'Tin City Long Range Radar Station Airport', 'source_airport': 'Wales Airport', 'airline': 'Bering Air', 'distance': 6.427715190921275}\n"
     ]
    }
   ],
   "source": [
    "print get_route_info(sorted_by_distance[1])"
   ]
  },
  {
   "cell_type": "markdown",
   "metadata": {},
   "source": [
    "#### Longest Flight\n",
    "Now, we see that the longest direct flight offered by a US carrier is between Dallas and Sydney by American Airlienes with a whopping distance of 8582 miles!"
   ]
  },
  {
   "cell_type": "code",
   "execution_count": 24,
   "metadata": {},
   "outputs": [
    {
     "name": "stdout",
     "output_type": "stream",
     "text": [
      "{'dest_airport': 'Sydney Kingsford Smith International Airport', 'source_airport': 'Dallas Fort Worth International Airport', 'airline': 'American Airlines', 'distance': 8582.421556813271}\n"
     ]
    }
   ],
   "source": [
    "print get_route_info(sorted_by_distance[-1])"
   ]
  },
  {
   "cell_type": "markdown",
   "metadata": {},
   "source": [
    "# Summary"
   ]
  },
  {
   "cell_type": "markdown",
   "metadata": {},
   "source": [
    "From the above analysis, we were able to create a bipartite graph using source, destination and airlines. Also we were able to find the shortest and longest distance location, airlines and distance."
   ]
  }
 ],
 "metadata": {
  "kernelspec": {
   "display_name": "Python 2",
   "language": "python",
   "name": "python2"
  },
  "language_info": {
   "codemirror_mode": {
    "name": "ipython",
    "version": 2
   },
   "file_extension": ".py",
   "mimetype": "text/x-python",
   "name": "python",
   "nbconvert_exporter": "python",
   "pygments_lexer": "ipython2",
   "version": "2.7.13"
  }
 },
 "nbformat": 4,
 "nbformat_minor": 2
}
